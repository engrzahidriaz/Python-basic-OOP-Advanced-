{
 "cells": [
  {
   "cell_type": "markdown",
   "metadata": {},
   "source": [
    "# Advanced Python"
   ]
  },
  {
   "cell_type": "markdown",
   "metadata": {},
   "source": [
    "## list Comprehension"
   ]
  },
  {
   "cell_type": "code",
   "execution_count": 1,
   "metadata": {},
   "outputs": [
    {
     "name": "stdout",
     "output_type": "stream",
     "text": [
      "[1, 4, 9, 16, 25, 36, 49, 64, 81, 100]\n"
     ]
    }
   ],
   "source": [
    "square = []\n",
    "for i in range(1,11):\n",
    "    square.append(i**2)\n",
    "print(square)"
   ]
  },
  {
   "cell_type": "code",
   "execution_count": 2,
   "metadata": {},
   "outputs": [
    {
     "name": "stdout",
     "output_type": "stream",
     "text": [
      "[1, 4, 9, 16, 25, 36, 49, 64, 81, 100]\n"
     ]
    }
   ],
   "source": [
    "square2 = [i**2 for i in range(1,11)]\n",
    "print(square2)"
   ]
  },
  {
   "cell_type": "code",
   "execution_count": 3,
   "metadata": {},
   "outputs": [
    {
     "name": "stdout",
     "output_type": "stream",
     "text": [
      "[-1, -2, -3, -4, -5, -6, -7, -8, -9, -10]\n"
     ]
    }
   ],
   "source": [
    "print([-i for i in range(1,11)])"
   ]
  },
  {
   "cell_type": "code",
   "execution_count": 4,
   "metadata": {},
   "outputs": [
    {
     "name": "stdout",
     "output_type": "stream",
     "text": [
      "['z', 's', 'H']\n"
     ]
    }
   ],
   "source": [
    "names = ['zahid','shahid','Hadi']\n",
    "print([name[0] for name in names])"
   ]
  },
  {
   "cell_type": "code",
   "execution_count": 5,
   "metadata": {},
   "outputs": [
    {
     "name": "stdout",
     "output_type": "stream",
     "text": [
      "['cba', 'vut', 'zux']\n"
     ]
    }
   ],
   "source": [
    "my_list = ['abc','tuv','xuz']\n",
    "print([i[::-1] for i in my_list])"
   ]
  },
  {
   "cell_type": "code",
   "execution_count": 6,
   "metadata": {},
   "outputs": [
    {
     "name": "stdout",
     "output_type": "stream",
     "text": [
      "[2, 4, 6, 8]\n"
     ]
    }
   ],
   "source": [
    "new_list = [1,2,3,4,5,6,7,8,9]\n",
    "print([i for i in new_list if i%2 == 0])"
   ]
  },
  {
   "cell_type": "code",
   "execution_count": 7,
   "metadata": {},
   "outputs": [
    {
     "name": "stdout",
     "output_type": "stream",
     "text": [
      "[1, 2, 3.0, 4.5]\n"
     ]
    }
   ],
   "source": [
    "input_list = [1,2,3.0,4.5,'zahid','Hadi']\n",
    "print([i for i in input_list if type(i) == int or type(i) == float])"
   ]
  },
  {
   "cell_type": "code",
   "execution_count": 8,
   "metadata": {},
   "outputs": [
    {
     "name": "stdout",
     "output_type": "stream",
     "text": [
      "[-1, 4, -3, 8, -5, 12, -7, 16, -9]\n"
     ]
    }
   ],
   "source": [
    "nums = [1,2,3,4,5,6,7,8,9]\n",
    "print([i*2 if (i%2 == 0) else -i for i in nums])"
   ]
  },
  {
   "cell_type": "code",
   "execution_count": 9,
   "metadata": {},
   "outputs": [
    {
     "name": "stdout",
     "output_type": "stream",
     "text": [
      "[[1, 2, 3], [1, 2, 3], [1, 2, 3]]\n"
     ]
    }
   ],
   "source": [
    "print([[i for i in range(1,4)] for j in range(3)])"
   ]
  },
  {
   "cell_type": "markdown",
   "metadata": {},
   "source": [
    "## Dictionary Comprehension"
   ]
  },
  {
   "cell_type": "code",
   "execution_count": 10,
   "metadata": {},
   "outputs": [
    {
     "name": "stdout",
     "output_type": "stream",
     "text": [
      "{1: 1, 2: 4, 3: 9, 4: 16, 5: 25, 6: 36, 7: 49, 8: 64, 9: 81, 10: 100}\n"
     ]
    }
   ],
   "source": [
    "print({a:a**2 for a in range(1,11)})"
   ]
  },
  {
   "cell_type": "code",
   "execution_count": 11,
   "metadata": {},
   "outputs": [
    {
     "name": "stdout",
     "output_type": "stream",
     "text": [
      "{'squar of 1 is': 1, 'squar of 2 is': 4, 'squar of 3 is': 9, 'squar of 4 is': 16, 'squar of 5 is': 25, 'squar of 6 is': 36, 'squar of 7 is': 49, 'squar of 8 is': 64, 'squar of 9 is': 81, 'squar of 10 is': 100}\n"
     ]
    }
   ],
   "source": [
    "print({f\"squar of {a} is\" :a**2 for a in range(1,11)})"
   ]
  },
  {
   "cell_type": "code",
   "execution_count": 12,
   "metadata": {},
   "outputs": [
    {
     "name": "stdout",
     "output_type": "stream",
     "text": [
      "{'z': 2, 'a': 2, 'h': 1, 'i': 2, 'd': 1, ' ': 1, 'r': 1}\n"
     ]
    }
   ],
   "source": [
    "string = \"zahid riaz\"\n",
    "print({i:string.count(i) for i in string})"
   ]
  },
  {
   "cell_type": "code",
   "execution_count": 13,
   "metadata": {},
   "outputs": [
    {
     "name": "stdout",
     "output_type": "stream",
     "text": [
      "{1: 'odd', 2: 'even', 3: 'odd', 4: 'even', 5: 'odd', 6: 'even', 7: 'odd', 8: 'even', 9: 'odd', 10: 'even'}\n"
     ]
    }
   ],
   "source": [
    "print({i:('even' if i%2 == 0 else 'odd') for i in range(1,11)})"
   ]
  },
  {
   "cell_type": "markdown",
   "metadata": {},
   "source": [
    "## flexible functions"
   ]
  },
  {
   "cell_type": "code",
   "execution_count": 14,
   "metadata": {},
   "outputs": [
    {
     "name": "stdout",
     "output_type": "stream",
     "text": [
      "(1, 2, 3, 4, 5)\n",
      "15\n"
     ]
    }
   ],
   "source": [
    "def total(*args):    # *args used for List\n",
    "    print(args)\n",
    "total(1,2,3,4,5)\n",
    "\n",
    "def total(*args):\n",
    "    total = 0\n",
    "    for num in args:\n",
    "        total += num\n",
    "    return total\n",
    "print(total(1,2,3,4,5))"
   ]
  },
  {
   "cell_type": "code",
   "execution_count": 15,
   "metadata": {},
   "outputs": [
    {
     "name": "stdout",
     "output_type": "stream",
     "text": [
      "2\n",
      "(3, 4)\n",
      "12\n"
     ]
    }
   ],
   "source": [
    "def multiply(num, *args):\n",
    "    print(num)\n",
    "    print(args)\n",
    "    multi = 1\n",
    "    for i in args:\n",
    "        multi *= i\n",
    "    return multi\n",
    "print(multiply(2,3,4))"
   ]
  },
  {
   "cell_type": "code",
   "execution_count": 16,
   "metadata": {},
   "outputs": [
    {
     "name": "stdout",
     "output_type": "stream",
     "text": [
      "(2, 3, 4)\n",
      "24\n"
     ]
    }
   ],
   "source": [
    "def multiplay(*args):\n",
    "    print(args)\n",
    "    multi = 1\n",
    "    for i in args:\n",
    "        multi *= i\n",
    "    return multi\n",
    "num = [2,3,4]\n",
    "print(multiplay(*num))"
   ]
  },
  {
   "cell_type": "code",
   "execution_count": 17,
   "metadata": {},
   "outputs": [
    {
     "name": "stdout",
     "output_type": "stream",
     "text": [
      "[1, 8, 27]\n"
     ]
    }
   ],
   "source": [
    "def power(num, *args):\n",
    "    if args: \n",
    "        return [i**3 for i in args]\n",
    "    else:\n",
    "        return \"you did\\'t pass any args\"\n",
    "nums = [1,2,3]\n",
    "print(power(2, *nums))"
   ]
  },
  {
   "cell_type": "markdown",
   "metadata": {},
   "source": [
    "## kwargs (keyward arguments)"
   ]
  },
  {
   "cell_type": "code",
   "execution_count": 19,
   "metadata": {},
   "outputs": [
    {
     "name": "stdout",
     "output_type": "stream",
     "text": [
      "{'first_name': 'zahid', 'last_name': 'riaz'}\n",
      "<class 'dict'>\n"
     ]
    }
   ],
   "source": [
    "def func(**kwargs):         # **args used for List\n",
    "    print(kwargs)\n",
    "    print(type(kwargs))\n",
    "func(first_name = 'zahid', last_name = 'riaz')"
   ]
  },
  {
   "cell_type": "code",
   "execution_count": 20,
   "metadata": {},
   "outputs": [
    {
     "name": "stdout",
     "output_type": "stream",
     "text": [
      "first_name:zahid\n",
      "last_name:riaz\n"
     ]
    }
   ],
   "source": [
    "def func(**kwargs):\n",
    "    for i,j in kwargs.items():\n",
    "        print(f\"{i}:{j}\")\n",
    "func(first_name = 'zahid', last_name = 'riaz')"
   ]
  },
  {
   "cell_type": "code",
   "execution_count": 21,
   "metadata": {},
   "outputs": [
    {
     "name": "stdout",
     "output_type": "stream",
     "text": [
      "name:zahid\n",
      "age:31\n"
     ]
    }
   ],
   "source": [
    "def func(**kwargs):\n",
    "    for i,j in kwargs.items():\n",
    "        print(f\"{i}:{j}\")\n",
    "d = {'name':'zahid','age':'31'}\n",
    "func(**d)"
   ]
  },
  {
   "cell_type": "code",
   "execution_count": 22,
   "metadata": {},
   "outputs": [
    {
     "name": "stdout",
     "output_type": "stream",
     "text": [
      "Hadi\n",
      "(1, 2, 3)\n",
      "zahid\n",
      "{'a': 1, 'b': 2}\n"
     ]
    }
   ],
   "source": [
    "def func(name, *args, new_name = \"zahid\", **kwargs):\n",
    "    print(name)\n",
    "    print(args)\n",
    "    print(new_name)\n",
    "    print(kwargs)\n",
    "func('Hadi',1,2,3,a=1,b=2)"
   ]
  },
  {
   "cell_type": "markdown",
   "metadata": {},
   "source": [
    "## lambda expressions"
   ]
  },
  {
   "cell_type": "code",
   "execution_count": 23,
   "metadata": {},
   "outputs": [
    {
     "name": "stdout",
     "output_type": "stream",
     "text": [
      "5\n",
      "<function add at 0x0000015B7E923550>\n",
      "<function <lambda> at 0x0000015B7E9235E0>\n"
     ]
    }
   ],
   "source": [
    "def add(a,b):\n",
    "    return a + b\n",
    "\n",
    "add1 = lambda a,b : a+b\n",
    "print(add(2,3))\n",
    "\n",
    "print(add)\n",
    "print(add1)"
   ]
  },
  {
   "cell_type": "code",
   "execution_count": 24,
   "metadata": {},
   "outputs": [
    {
     "name": "stdout",
     "output_type": "stream",
     "text": [
      "True\n"
     ]
    }
   ],
   "source": [
    "even = lambda a : a%2 == 0\n",
    "print(even(4))"
   ]
  },
  {
   "cell_type": "code",
   "execution_count": 1,
   "metadata": {},
   "outputs": [
    {
     "name": "stdout",
     "output_type": "stream",
     "text": [
      "d\n"
     ]
    }
   ],
   "source": [
    "last_char = lambda s : s[-1]\n",
    "print(last_char('zahid'))"
   ]
  },
  {
   "cell_type": "code",
   "execution_count": 2,
   "metadata": {},
   "outputs": [
    {
     "name": "stdout",
     "output_type": "stream",
     "text": [
      "True\n"
     ]
    }
   ],
   "source": [
    "func = lambda l : True if len(l) > 5 else False\n",
    "print(func('zahidriaz'))"
   ]
  },
  {
   "cell_type": "code",
   "execution_count": 3,
   "metadata": {},
   "outputs": [
    {
     "name": "stdout",
     "output_type": "stream",
     "text": [
      "True\n"
     ]
    }
   ],
   "source": [
    "func = lambda l : len(l) > 5\n",
    "print(func('zahidriaz'))"
   ]
  },
  {
   "cell_type": "markdown",
   "metadata": {},
   "source": [
    "## Built-in functions"
   ]
  },
  {
   "cell_type": "code",
   "execution_count": 4,
   "metadata": {},
   "outputs": [
    {
     "name": "stdout",
     "output_type": "stream",
     "text": [
      "0 ---> zahid\n",
      "1 ---> Hadi\n",
      "2 ---> riaz\n"
     ]
    }
   ],
   "source": [
    "names = ['zahid','Hadi','riaz']\n",
    "pos = 0\n",
    "for i in names:\n",
    "    print(f\"{pos} ---> {i}\")\n",
    "    pos += 1"
   ]
  },
  {
   "cell_type": "code",
   "execution_count": 5,
   "metadata": {},
   "outputs": [
    {
     "name": "stdout",
     "output_type": "stream",
     "text": [
      "0 ---> zahid\n",
      "1 ---> Hadi\n",
      "2 ---> riaz\n"
     ]
    }
   ],
   "source": [
    "for pos,i in enumerate(names):\n",
    "    print(f\"{pos} ---> {i}\")"
   ]
  },
  {
   "cell_type": "code",
   "execution_count": 6,
   "metadata": {},
   "outputs": [
    {
     "name": "stdout",
     "output_type": "stream",
     "text": [
      "2\n"
     ]
    }
   ],
   "source": [
    "l = ['zahid','riaz','Hadi','akbar']\n",
    "def find_pos(l,target):\n",
    "    for pos,i in enumerate(l):\n",
    "        if i == target:\n",
    "            return pos\n",
    "    return -1\n",
    "print(find_pos(l,'Hadi'))"
   ]
  },
  {
   "cell_type": "markdown",
   "metadata": {},
   "source": [
    "## map functions"
   ]
  },
  {
   "cell_type": "code",
   "execution_count": 7,
   "metadata": {},
   "outputs": [
    {
     "name": "stdout",
     "output_type": "stream",
     "text": [
      "[1, 4, 9, 16]\n",
      "[1, 4, 9, 16]\n",
      "[1, 4, 9, 16]\n",
      "[1, 4, 9, 16]\n"
     ]
    }
   ],
   "source": [
    "numbers = [1,2,3,4]\n",
    "def square(a):\n",
    "    return a**2\n",
    "print([square(1),square(2),square(3),square(4)])\n",
    "\n",
    "print(list(map(square,numbers)))\n",
    "\n",
    "print(list(map(lambda a: a**2 ,numbers)))\n",
    "\n",
    "print([i**2 for i in numbers])"
   ]
  },
  {
   "cell_type": "code",
   "execution_count": 8,
   "metadata": {},
   "outputs": [
    {
     "name": "stdout",
     "output_type": "stream",
     "text": [
      "[1, 4, 9, 16]\n"
     ]
    }
   ],
   "source": [
    "numbers = [1,2,3,4]\n",
    "def square(a):\n",
    "    return a**2\n",
    "new_numbers = []\n",
    "for i in numbers:\n",
    "    new_numbers.append(square(i))\n",
    "print(new_numbers)"
   ]
  },
  {
   "cell_type": "markdown",
   "metadata": {},
   "source": [
    "## filter functions"
   ]
  },
  {
   "cell_type": "code",
   "execution_count": 9,
   "metadata": {},
   "outputs": [
    {
     "name": "stdout",
     "output_type": "stream",
     "text": [
      "(2, 4, 6, 8, 10)\n",
      "(2, 4, 6, 8, 10)\n",
      "[2, 4, 6, 8, 10]\n"
     ]
    }
   ],
   "source": [
    "def even(a):\n",
    "    return a%2 == 0\n",
    "numbers = [1,2,3,4,5,6,7,8,9,10]\n",
    "print(tuple(filter(even,numbers)))\n",
    "\n",
    "print(tuple(filter(lambda a: a%2==0, numbers)))\n",
    "\n",
    "print([i for i in numbers if i%2 ==0])"
   ]
  },
  {
   "cell_type": "markdown",
   "metadata": {},
   "source": [
    "## iterator vs iterable"
   ]
  },
  {
   "cell_type": "code",
   "execution_count": 10,
   "metadata": {},
   "outputs": [
    {
     "name": "stdout",
     "output_type": "stream",
     "text": [
      "[1, 4, 9, 16, 25]\n",
      "<map object at 0x000001F371E67EB0>\n",
      "1\n",
      "2\n",
      "3\n",
      "4\n"
     ]
    }
   ],
   "source": [
    "numbers = [1,2,3,4,5]    # iterable\n",
    "print([i**2 for i in numbers]) # iterator\n",
    "print(map(lambda a: a**2, numbers)) # iterator\n",
    "\n",
    "number_inter = iter(numbers)\n",
    "print(next(number_inter))\n",
    "print(next(number_inter))\n",
    "print(next(number_inter))\n",
    "print(next(number_inter))"
   ]
  },
  {
   "cell_type": "markdown",
   "metadata": {},
   "source": [
    "## zip functions"
   ]
  },
  {
   "cell_type": "code",
   "execution_count": 11,
   "metadata": {},
   "outputs": [
    {
     "name": "stdout",
     "output_type": "stream",
     "text": [
      "[('user1', 'zahid'), ('user2', 'riaz'), ('user3', 'Hadi')]\n",
      "{'user1': 'zahid', 'user2': 'riaz', 'user3': 'Hadi'}\n",
      "(('user1', 'zahid'), ('user2', 'riaz'), ('user3', 'Hadi'))\n"
     ]
    }
   ],
   "source": [
    "user_id = ['user1','user2','user3']\n",
    "name = ['zahid', 'riaz','Hadi']\n",
    "print(list(zip(user_id,name)))\n",
    "\n",
    "print(dict(zip(user_id,name)))\n",
    "print(tuple(zip(user_id,name)))"
   ]
  },
  {
   "cell_type": "code",
   "execution_count": 12,
   "metadata": {},
   "outputs": [
    {
     "name": "stdout",
     "output_type": "stream",
     "text": [
      "[(1, 3, 5, 7, 9), (0, 4, 2, 8, 5)]\n",
      "(1, 3, 5, 7, 9)\n",
      "(0, 4, 2, 8, 5)\n"
     ]
    }
   ],
   "source": [
    "l = [(1,0),(3,4),(5,2),(7,8),(9,5)]\n",
    "print(list(zip(*l)))\n",
    "l1,l2 = list(zip(*l))\n",
    "print(l1)\n",
    "print(l2)"
   ]
  },
  {
   "cell_type": "code",
   "execution_count": 13,
   "metadata": {},
   "outputs": [
    {
     "name": "stdout",
     "output_type": "stream",
     "text": [
      "[1, 4, 5, 8, 9]\n"
     ]
    }
   ],
   "source": [
    "l1 = [1,3,5,7,9]\n",
    "l2 = [0,4,2,8,5]\n",
    "new_list = []\n",
    "for i in zip(l1,l2):\n",
    "    new_list.append(max(i))\n",
    "print(new_list)"
   ]
  },
  {
   "cell_type": "code",
   "execution_count": 14,
   "metadata": {},
   "outputs": [
    {
     "name": "stdout",
     "output_type": "stream",
     "text": [
      "[2.5, 3.5, 4.5]\n"
     ]
    }
   ],
   "source": [
    "def func(l1,l2):\n",
    "    avg = []\n",
    "    for i in zip(l1,l2):\n",
    "        avg.append(sum(i)/len(i))\n",
    "    return avg\n",
    "print(func([1,2,3],[4,5,6])) "
   ]
  },
  {
   "cell_type": "code",
   "execution_count": 15,
   "metadata": {},
   "outputs": [
    {
     "name": "stdout",
     "output_type": "stream",
     "text": [
      "[4.0, 5.0, 6.0]\n"
     ]
    }
   ],
   "source": [
    "def func(*args):\n",
    "    avg = []\n",
    "    for i in zip(*args):\n",
    "        avg.append(sum(i)/len(i))\n",
    "    return avg\n",
    "print(func([1,2,3],[4,5,6],[7,8,9]))"
   ]
  },
  {
   "cell_type": "code",
   "execution_count": 16,
   "metadata": {},
   "outputs": [
    {
     "name": "stdout",
     "output_type": "stream",
     "text": [
      "[2.3333333333333335, 2.6666666666666665, 3.0]\n"
     ]
    }
   ],
   "source": [
    "average = lambda *args: [max(i)/len(i) for i in zip(*args)]\n",
    "print(average([1,2,3],[4,5,6],[7,8,9])) "
   ]
  },
  {
   "cell_type": "markdown",
   "metadata": {},
   "source": [
    "## any and all function"
   ]
  },
  {
   "cell_type": "code",
   "execution_count": 17,
   "metadata": {},
   "outputs": [
    {
     "name": "stdout",
     "output_type": "stream",
     "text": [
      "True\n",
      "False\n",
      "True\n",
      "True\n"
     ]
    }
   ],
   "source": [
    "print(all([True,True,True])) # ---> True\n",
    "print(all([True,False,True])) # ---> False\n",
    "\n",
    "numbers1 = [2,4,6,8] # all even\n",
    "print(all([i%2 ==0 for i in numbers1]))\n",
    "\n",
    "numbers2 = [2,3,6,7] # any even\n",
    "print(any([i%2 ==0 for i in numbers2]))"
   ]
  },
  {
   "cell_type": "code",
   "execution_count": 18,
   "metadata": {},
   "outputs": [
    {
     "name": "stdout",
     "output_type": "stream",
     "text": [
      "worng input\n",
      "16\n"
     ]
    }
   ],
   "source": [
    "def my_sum(*args):\n",
    "    if all([(type(i) == int or type(i) == float) for i in args]):\n",
    "        total = 0\n",
    "        for i in args:\n",
    "            total += i\n",
    "        return total\n",
    "    else:\n",
    "        return \"worng input\"\n",
    "print(my_sum(1,2,3,4.5,'zahid',[1,3,5])) # ---> wrong\n",
    "print(my_sum(1,2,3,4,6)) # ---> sum"
   ]
  },
  {
   "cell_type": "markdown",
   "metadata": {},
   "source": [
    "## min and max functions"
   ]
  },
  {
   "cell_type": "code",
   "execution_count": 20,
   "metadata": {},
   "outputs": [
    {
     "name": "stdout",
     "output_type": "stream",
     "text": [
      "5\n",
      "1\n"
     ]
    }
   ],
   "source": [
    "my_list = [1,2,3,4,5]\n",
    "print(max(my_list))\n",
    "print(min(my_list))"
   ]
  },
  {
   "cell_type": "code",
   "execution_count": 21,
   "metadata": {},
   "outputs": [
    {
     "name": "stdout",
     "output_type": "stream",
     "text": [
      "AbdulHadi\n",
      "AbdulHadi\n"
     ]
    }
   ],
   "source": [
    "names = ['zahid','riaz','AbdulHadi']\n",
    "def maximun(item):\n",
    "    return len(item)\n",
    "print(max(names, key = maximun))\n",
    "\n",
    "print(max(names, key = lambda i: len(i)))"
   ]
  },
  {
   "cell_type": "markdown",
   "metadata": {},
   "source": [
    "## Sort functions"
   ]
  },
  {
   "cell_type": "code",
   "execution_count": 22,
   "metadata": {},
   "outputs": [
    {
     "name": "stdout",
     "output_type": "stream",
     "text": [
      "['apple', 'grapes', 'mango']\n",
      "['apple', 'grapes', 'mango']\n",
      "['apple', 'grapes', 'mango']\n"
     ]
    }
   ],
   "source": [
    "fruits1 = ['grapes','mango','apple']\n",
    "fruits1.sort()\n",
    "print(fruits1)\n",
    "\n",
    "fruits2 = ('grapes','mango','apple')\n",
    "print(sorted(fruits2))\n",
    "\n",
    "fruits3 = {'grapes','mango','apple'}\n",
    "print(sorted(fruits3))"
   ]
  },
  {
   "cell_type": "code",
   "execution_count": 24,
   "metadata": {},
   "outputs": [
    {
     "name": "stdout",
     "output_type": "stream",
     "text": [
      "[{'model': 'honda', 'price': '20000'}, {'model': 'tyota', 'price': '25000'}, {'model': 'syzuki', 'price': '30000'}]\n",
      "[{'model': 'syzuki', 'price': '30000'}, {'model': 'tyota', 'price': '25000'}, {'model': 'honda', 'price': '20000'}]\n"
     ]
    }
   ],
   "source": [
    "cars = [\n",
    "    {'model':'tyota','price':'25000'},\n",
    "    {'model':'honda','price':'20000'},\n",
    "    {'model':'syzuki','price':'30000'}\n",
    "]\n",
    "print(sorted(cars, key = lambda i: i['price']))\n",
    "print(sorted(cars, key = lambda i: i['price'], reverse = True))"
   ]
  },
  {
   "cell_type": "markdown",
   "metadata": {},
   "source": [
    "## Decorators"
   ]
  },
  {
   "cell_type": "code",
   "execution_count": 25,
   "metadata": {},
   "outputs": [
    {
     "name": "stdout",
     "output_type": "stream",
     "text": [
      "49\n",
      "<function square at 0x000001F371E6DCA0>\n",
      "<function square at 0x000001F371E6DCA0>\n",
      "square\n"
     ]
    }
   ],
   "source": [
    "def square(a):\n",
    "    return a**2\n",
    "s = square\n",
    "print(s(7))\n",
    "print(s)\n",
    "print(square)\n",
    "print(s.__name__)"
   ]
  },
  {
   "cell_type": "code",
   "execution_count": 26,
   "metadata": {},
   "outputs": [
    {
     "name": "stdout",
     "output_type": "stream",
     "text": [
      "[1, 4, 9, 16]\n",
      "[1, 4, 9, 16]\n"
     ]
    }
   ],
   "source": [
    "def square(a):\n",
    "    return a**2\n",
    "l = [1,2,3,4]\n",
    "print(list(map(square,l)))\n",
    "\n",
    "print(list(map(lambda  a: a**2, l)))"
   ]
  },
  {
   "cell_type": "code",
   "execution_count": 27,
   "metadata": {},
   "outputs": [
    {
     "name": "stdout",
     "output_type": "stream",
     "text": [
      "[1, 4, 9, 16]\n",
      "inside inner function\n",
      "message is: hello\n"
     ]
    }
   ],
   "source": [
    "def my_map(func,l):\n",
    "    new_l = []\n",
    "    for i in l:\n",
    "        new_l.append(func(i))\n",
    "    return new_l\n",
    "print(my_map(square,l))\n",
    "\n",
    "def outer_func():\n",
    "    def inner_func():\n",
    "        print(\"inside inner function\")\n",
    "    return inner_func()\n",
    "var = outer_func()\n",
    "\n",
    "def outer_func1(msg):\n",
    "    def inner_func1():\n",
    "        print(f\"message is: {msg}\")\n",
    "    return inner_func1\n",
    "var = outer_func1('hello')\n",
    "var()"
   ]
  },
  {
   "cell_type": "code",
   "execution_count": 28,
   "metadata": {},
   "outputs": [
    {
     "name": "stdout",
     "output_type": "stream",
     "text": [
      "125\n"
     ]
    }
   ],
   "source": [
    "def to_pow(x):\n",
    "    def calc_pow(n):\n",
    "        return n**x\n",
    "    return calc_pow\n",
    "cube = to_pow(3)\n",
    "print(cube(5))\n",
    "\n",
    "def decorator_func(any_func):\n",
    "    def wrapper_fun():\n",
    "        print('this is awesome function')\n",
    "        any_func()\n",
    "    return wrapper_fun"
   ]
  },
  {
   "cell_type": "code",
   "execution_count": 29,
   "metadata": {},
   "outputs": [
    {
     "name": "stdout",
     "output_type": "stream",
     "text": [
      "this is awesome function\n",
      "this is function 1\n",
      "this is awesome function\n",
      "this is function 2\n"
     ]
    }
   ],
   "source": [
    "@decorator_func # this is shortcut\n",
    "def func1():\n",
    "    print('this is function 1')\n",
    "func1()\n",
    "\n",
    "def func2():\n",
    "    print('this is function 2')\n",
    "\n",
    "var = decorator_func(func2)\n",
    "var()"
   ]
  },
  {
   "cell_type": "code",
   "execution_count": 31,
   "metadata": {},
   "outputs": [],
   "source": [
    "def decorator_func(any_func):\n",
    "    def wrapper_fun(*args, **kwargs):\n",
    "        print('this is awesome function')\n",
    "        any_func(*args, **kwargs)\n",
    "    return wrapper_fun"
   ]
  },
  {
   "cell_type": "code",
   "execution_count": 32,
   "metadata": {},
   "outputs": [
    {
     "name": "stdout",
     "output_type": "stream",
     "text": [
      "this is awesome function\n",
      "this is function with argument 7\n"
     ]
    }
   ],
   "source": [
    "@decorator_func # this is shortcut\n",
    "def func(a):\n",
    "    print(f'this is function with argument {a}')\n",
    "func(7)\n",
    "\n",
    "def decorator_func(any_func):\n",
    "    def wrapper_fun(*args, **kwargs):\n",
    "        print('this is awesome function')\n",
    "        return any_func(*args, **kwargs)\n",
    "    return wrapper_fun"
   ]
  },
  {
   "cell_type": "code",
   "execution_count": 33,
   "metadata": {},
   "outputs": [
    {
     "name": "stdout",
     "output_type": "stream",
     "text": [
      "this is awesome function\n",
      "5\n"
     ]
    }
   ],
   "source": [
    "@decorator_func # this is shortcut\n",
    "def func3(a,b):\n",
    "    return a + b\n",
    "print(func3(2,3))"
   ]
  },
  {
   "cell_type": "code",
   "execution_count": 35,
   "metadata": {},
   "outputs": [],
   "source": [
    "import time\n",
    "t1 = time.time()\n",
    "from functools import wraps\n",
    "def print_func_data(function):\n",
    "    @wraps(function)\n",
    "    def wrapper_func(*args, **kwargs):\n",
    "        print(f\"you are calling {function.__name__} function\")\n",
    "        print(f\"{function.__doc__}\")\n",
    "        return function(*args, **kwargs)\n",
    "    return wrapper_func"
   ]
  },
  {
   "cell_type": "code",
   "execution_count": 36,
   "metadata": {},
   "outputs": [
    {
     "name": "stdout",
     "output_type": "stream",
     "text": [
      "you are calling add function\n",
      " this take two numbers as arguments and return their sum\n",
      "7\n",
      "this function took 2.651150941848755 seconds\n"
     ]
    }
   ],
   "source": [
    "@print_func_data\n",
    "def add(a,b):\n",
    "    ''' this take two numbers as arguments and return their sum'''\n",
    "    return a + b\n",
    "print(add(3,4))\n",
    "t2 = time.time()\n",
    "print(f\"this function took {t2-t1} seconds\")"
   ]
  },
  {
   "cell_type": "markdown",
   "metadata": {},
   "source": [
    "## Generator"
   ]
  },
  {
   "cell_type": "code",
   "execution_count": 37,
   "metadata": {},
   "outputs": [
    {
     "name": "stdout",
     "output_type": "stream",
     "text": [
      "1\n",
      "2\n",
      "3\n",
      "1\n",
      "2\n",
      "3\n"
     ]
    }
   ],
   "source": [
    "l = [1,2,3] # iterable\n",
    "\n",
    "for i in l:\n",
    "    print(i)\n",
    "\n",
    "i = iter(l)\n",
    "print(next(i))\n",
    "print(next(i))\n",
    "print(next(i))"
   ]
  },
  {
   "cell_type": "code",
   "execution_count": 38,
   "metadata": {},
   "outputs": [
    {
     "name": "stdout",
     "output_type": "stream",
     "text": [
      "1\n",
      "4\n",
      "9\n",
      "1\n",
      "2\n",
      "3\n",
      "4\n",
      "5\n",
      "6\n",
      "7\n",
      "8\n",
      "9\n",
      "10\n",
      "1\n",
      "2\n",
      "3\n",
      "4\n",
      "5\n",
      "6\n",
      "7\n",
      "8\n",
      "9\n",
      "10\n"
     ]
    }
   ],
   "source": [
    "for i in map(lambda a: a**2, l): #iterators\n",
    "    print(i)\n",
    "\n",
    "def nums(n):\n",
    "    for i in range(1,n+1):\n",
    "        print(i)\n",
    "nums(10)\n",
    "\n",
    "def nums(n):\n",
    "    for i in range(1,n+1):\n",
    "        yield(i)  # generator function\n",
    "\n",
    "for x in nums(10):\n",
    "    print(x)"
   ]
  },
  {
   "cell_type": "code",
   "execution_count": 39,
   "metadata": {},
   "outputs": [
    {
     "name": "stdout",
     "output_type": "stream",
     "text": [
      "1\n",
      "2\n",
      "3\n",
      "4\n",
      "5\n",
      "6\n",
      "7\n",
      "8\n",
      "9\n",
      "10\n"
     ]
    }
   ],
   "source": [
    "number = nums(10)\n",
    "for x in number:\n",
    "    print(x)\n",
    "\n",
    "for x in number:\n",
    "    print(x)"
   ]
  },
  {
   "cell_type": "code",
   "execution_count": 40,
   "metadata": {},
   "outputs": [
    {
     "name": "stdout",
     "output_type": "stream",
     "text": [
      "0\n",
      "2\n",
      "4\n",
      "6\n",
      "8\n"
     ]
    }
   ],
   "source": [
    "def generator_func(n):\n",
    "    for i in range(0,n):\n",
    "        if i%2 == 0:\n",
    "             yield(i)\n",
    "for num in generator_func(10):\n",
    "    print(num)"
   ]
  },
  {
   "cell_type": "code",
   "execution_count": 41,
   "metadata": {},
   "outputs": [
    {
     "name": "stdout",
     "output_type": "stream",
     "text": [
      "0\n",
      "2\n",
      "4\n",
      "6\n",
      "8\n"
     ]
    }
   ],
   "source": [
    "def generator_func(n):\n",
    "    for i in range(0,n,2):\n",
    "         yield(i)\n",
    "for num in generator_func(10):\n",
    "    print(num)"
   ]
  },
  {
   "cell_type": "markdown",
   "metadata": {},
   "source": [
    "## generator comprehension"
   ]
  },
  {
   "cell_type": "code",
   "execution_count": 42,
   "metadata": {},
   "outputs": [
    {
     "name": "stdout",
     "output_type": "stream",
     "text": [
      "[1, 4, 9, 16, 25, 36, 49, 64, 81, 100]\n",
      "1\n",
      "4\n",
      "9\n",
      "16\n",
      "25\n",
      "36\n",
      "49\n",
      "64\n",
      "81\n",
      "100\n"
     ]
    }
   ],
   "source": [
    "square = [i**2 for i in range(1,11)]\n",
    "print(square)\n",
    "\n",
    "square = (i**2 for i in range(1,11)) # for generator\n",
    "for num in square:\n",
    "    print(num)"
   ]
  },
  {
   "cell_type": "code",
   "execution_count": null,
   "metadata": {},
   "outputs": [],
   "source": []
  }
 ],
 "metadata": {
  "kernelspec": {
   "display_name": "Python 3",
   "language": "python",
   "name": "python3"
  },
  "language_info": {
   "codemirror_mode": {
    "name": "ipython",
    "version": 3
   },
   "file_extension": ".py",
   "mimetype": "text/x-python",
   "name": "python",
   "nbconvert_exporter": "python",
   "pygments_lexer": "ipython3",
   "version": "3.8.5"
  }
 },
 "nbformat": 4,
 "nbformat_minor": 4
}
