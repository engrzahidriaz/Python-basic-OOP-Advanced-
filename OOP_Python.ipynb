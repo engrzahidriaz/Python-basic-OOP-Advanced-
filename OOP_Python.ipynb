{
 "cells": [
  {
   "cell_type": "markdown",
   "metadata": {},
   "source": [
    "# OOP Python"
   ]
  },
  {
   "cell_type": "code",
   "execution_count": 1,
   "metadata": {},
   "outputs": [
    {
     "name": "stdout",
     "output_type": "stream",
     "text": [
      "init method // constractor get called\n",
      "init method // constractor get called\n",
      "zahid\n",
      "abdul\n"
     ]
    }
   ],
   "source": [
    "class Person:\n",
    "    def __init__(self, first_name, last_name, age):\n",
    "        print('init method // constractor get called')\n",
    "        self.first_name = first_name\n",
    "        self.last_name = last_name\n",
    "        self.age = age\n",
    "\n",
    "p1 = Person('zahid', 'riaz',31)\n",
    "p2 = Person('abdul','Hadi',2)\n",
    "\n",
    "print(p1.first_name)\n",
    "print(p2.first_name)"
   ]
  },
  {
   "cell_type": "code",
   "execution_count": 2,
   "metadata": {},
   "outputs": [
    {
     "name": "stdout",
     "output_type": "stream",
     "text": [
      "gf1\n"
     ]
    }
   ],
   "source": [
    "class Laptop:\n",
    "    def __init__(self, brand_name, model_name, price):\n",
    "        self.brand_name = brand_name\n",
    "        self.model_name = model_name\n",
    "        self.price = price\n",
    "        \n",
    "p1 = Laptop('dell','gf1',15000)\n",
    "p2 = Laptop('hp','gp2',25000)\n",
    "print(p1.model_name)"
   ]
  },
  {
   "cell_type": "markdown",
   "metadata": {},
   "source": [
    "## OOP instance method"
   ]
  },
  {
   "cell_type": "code",
   "execution_count": 3,
   "metadata": {},
   "outputs": [
    {
     "data": {
      "text/plain": [
       "3"
      ]
     },
     "execution_count": 3,
     "metadata": {},
     "output_type": "execute_result"
    }
   ],
   "source": [
    "l = [1,2,3]\n",
    "l.pop()"
   ]
  },
  {
   "cell_type": "code",
   "execution_count": 6,
   "metadata": {},
   "outputs": [
    {
     "name": "stdout",
     "output_type": "stream",
     "text": [
      "zahid  riaz\n",
      "True\n"
     ]
    }
   ],
   "source": [
    "class Person:\n",
    "    def __init__(self, first_name, last_name, age):\n",
    "        self.first_name = first_name\n",
    "        self.last_name = last_name\n",
    "        self.age = age\n",
    "\n",
    "    def full_name(self):\n",
    "        return f\"{self.first_name}  {self.last_name}\"\n",
    "    def above_18(self):\n",
    "          return self.age > 18\n",
    "\n",
    "p1 = Person('zahid', 'riaz',31)\n",
    "print(p1.full_name()) # similarly l.pop()\n",
    "Person.full_name(p1)  # similarly list.append(l,10)\n",
    "print(p1.above_18())"
   ]
  },
  {
   "cell_type": "code",
   "execution_count": 7,
   "metadata": {},
   "outputs": [
    {
     "name": "stdout",
     "output_type": "stream",
     "text": [
      "13500.0\n"
     ]
    }
   ],
   "source": [
    "class Laptop:\n",
    "    def __init__(self, brand_name, model_name, price):\n",
    "        self.brand_name = brand_name\n",
    "        self.model_name = model_name\n",
    "        self.price = price\n",
    "    def discount(self,num):\n",
    "        return self.price - (num/100)*self.price\n",
    "\n",
    "p1 = Laptop('dell','gf1',15000)\n",
    "print(p1.discount(10))"
   ]
  },
  {
   "cell_type": "code",
   "execution_count": 8,
   "metadata": {},
   "outputs": [
    {
     "name": "stdout",
     "output_type": "stream",
     "text": [
      "25.12\n"
     ]
    }
   ],
   "source": [
    "class Circle:\n",
    "    def __init__(self, radius, pi):\n",
    "        self.radius = radius\n",
    "        self.pi = pi\n",
    "    def circum(self):\n",
    "        return 2*self.pi*self.radius\n",
    "\n",
    "c1 = Circle(4, 3.14)\n",
    "c2 = Circle(5, 3.14)\n",
    "print(c1.circum())"
   ]
  },
  {
   "cell_type": "code",
   "execution_count": 9,
   "metadata": {},
   "outputs": [
    {
     "name": "stdout",
     "output_type": "stream",
     "text": [
      "25.12\n"
     ]
    }
   ],
   "source": [
    "class Circle:\n",
    "    pi = 3.14\n",
    "    def __init__(self, radius):\n",
    "        self.radius = radius\n",
    "    def circum(self):\n",
    "        return 2*Circle.pi*self.radius\n",
    "\n",
    "c1 = Circle(4)\n",
    "c2 = Circle(5)\n",
    "print(c1.circum())"
   ]
  },
  {
   "cell_type": "code",
   "execution_count": 10,
   "metadata": {},
   "outputs": [
    {
     "name": "stdout",
     "output_type": "stream",
     "text": [
      "13500.0\n"
     ]
    }
   ],
   "source": [
    "class Laptop:\n",
    "    discount_per = 10\n",
    "    def __init__(self, brand_name, model_name, price):\n",
    "        self.brand_name = brand_name\n",
    "        self.model_name = model_name\n",
    "        self.price = price\n",
    "    def discount(self):\n",
    "        return self.price - (Laptop.discount_per/100)*self.price\n",
    "    \n",
    "p1 = Laptop('dell','gf1',15000)\n",
    "print(p1.discount())"
   ]
  },
  {
   "cell_type": "code",
   "execution_count": 11,
   "metadata": {},
   "outputs": [
    {
     "name": "stdout",
     "output_type": "stream",
     "text": [
      "{'brand_name': 'apple', 'model_name': 'macbook', 'price': 55000, 'discount_per': 50}\n",
      "27500.0\n"
     ]
    }
   ],
   "source": [
    "class Laptop:\n",
    "    discount_per = 10\n",
    "    def __init__(self, brand_name, model_name, price):\n",
    "        self.brand_name = brand_name\n",
    "        self.model_name = model_name\n",
    "        self.price = price\n",
    "    def discount(self):\n",
    "        return self.price - (self.discount_per/100)*self.price\n",
    "\n",
    "p1 = Laptop('dell','gf1',15000)\n",
    "p2 = Laptop('apple','macbook',55000)\n",
    "p2.discount_per = 50\n",
    "print(p2.__dict__)\n",
    "print(p2.discount())"
   ]
  },
  {
   "cell_type": "markdown",
   "metadata": {},
   "source": [
    "## OOP Class Methods"
   ]
  },
  {
   "cell_type": "code",
   "execution_count": 12,
   "metadata": {},
   "outputs": [
    {
     "name": "stdout",
     "output_type": "stream",
     "text": [
      "you have created 2 of person class\n"
     ]
    }
   ],
   "source": [
    "class Person:\n",
    "    count_instance = 0\n",
    "    def __init__(self, first_name, last_name, age):\n",
    "        Person.count_instance += 1\n",
    "        self.first_name = first_name\n",
    "        self.last_name = last_name\n",
    "        self.age = age\n",
    "\n",
    "    @classmethod   # take class as argument\n",
    "    def count_instances(cls):\n",
    "        return f\"you have created {cls.count_instance} of person class\"\n",
    "\n",
    "    @staticmethod   # take nothing as argument\n",
    "    def hello():   \n",
    "        print('hello, static method called')\n",
    "\n",
    "    def full_name(self):\n",
    "        return f\"{self.first_name}  {self.last_name}\"\n",
    "    def above_18(self):\n",
    "        return self.age > 18\n",
    "\n",
    "p1 = Person('zahid', 'riaz', 31)\n",
    "p2 = Person('amjad', 'hussain', 32)\n",
    "print(Person.count_instances())"
   ]
  },
  {
   "cell_type": "code",
   "execution_count": 13,
   "metadata": {},
   "outputs": [
    {
     "name": "stdout",
     "output_type": "stream",
     "text": [
      "1000\n",
      "{'brand': 'nokia', 'model_name': '1100', '_price': 1000}\n"
     ]
    }
   ],
   "source": [
    "class Phone:\n",
    "    def __init__(self, brand, model_name, price):\n",
    "        self.brand = brand\n",
    "        self.model_name = model_name\n",
    "        self._price = price\n",
    "    \n",
    "    def make_a_call(self, phone_number):\n",
    "        print(f\"calling {phone_number}\")\n",
    "\n",
    "    def full_name(self):\n",
    "        print(f\"{self.brand} {self.model_name}\")\n",
    "\n",
    "phone1 = Phone('nokia', '1100', 1000)\n",
    "print(phone1._price)\n",
    "print(phone1.__dict__)"
   ]
  },
  {
   "cell_type": "code",
   "execution_count": 15,
   "metadata": {},
   "outputs": [
    {
     "name": "stdout",
     "output_type": "stream",
     "text": [
      "[1, 2, 3, 4]\n"
     ]
    }
   ],
   "source": [
    "# _name # convention of private name\n",
    "# __name # name mangling\n",
    "# __init__ # dunder\n",
    "\n",
    "l = [4,3,1,2]\n",
    "l.sort() # tim sorting\n",
    "print(l)"
   ]
  },
  {
   "cell_type": "markdown",
   "metadata": {},
   "source": [
    "## Class Inheritance"
   ]
  },
  {
   "cell_type": "code",
   "execution_count": 19,
   "metadata": {},
   "outputs": [
    {
     "name": "stdout",
     "output_type": "stream",
     "text": [
      "oneplus 5 and price is 30000\n",
      "None\n",
      "oneplus 5 and price is 30000\n",
      "None\n"
     ]
    }
   ],
   "source": [
    "class Phone:\n",
    "    def __init__(self, brand, model_name, price):\n",
    "        self.brand = brand\n",
    "        self.model_name = model_name\n",
    "        self._price = price\n",
    "    \n",
    "    def make_a_call(self, phone_number):\n",
    "        return f\"calling {phone_number}\"\n",
    "\n",
    "    def full_name(self):\n",
    "        return f\"{self.brand} {self.model_name}\"\n",
    "\n",
    "class Smartphone(Phone):\n",
    "    def __init__(self, brand, model_name, price, ram, rear_camera):\n",
    "        Phone.__init__(self, brand, model_name, price) \n",
    "        self.ram = ram\n",
    "        self.rear_camera = rear_camera\n",
    "    \n",
    "    def full_name(self):\n",
    "        print(f\"{self.brand} {self.model_name} and price is {self._price}\")\n",
    "\n",
    "class FlagshipPhone(Smartphone):\n",
    "    def __init__(self, brand, model_name, price, ram, rear_camera, front_camera):\n",
    "        super().__init__(brand, model_name, price, ram, rear_camera)\n",
    "        self.front_camera = front_camera\n",
    "        \n",
    "        def full_name(self):\n",
    "            print(f\"{self.brand} {self.model_name} and price is {self._price} and {self.front_camera}\")\n",
    "\n",
    "phone1 = Phone('nokia', '1100', 1000)\n",
    "smartphone = Smartphone('oneplus', '5', 30000, '6 gb', '32 MP')\n",
    "oneplus = FlagshipPhone('oneplus', '5', 30000, '6 gb', '32 MP', '16 MP')\n",
    "print(smartphone.full_name())\n",
    "#help(Smartphone)\n",
    "print(oneplus.full_name())\n",
    "#help(FlagshipPhone)\n"
   ]
  },
  {
   "cell_type": "markdown",
   "metadata": {},
   "source": [
    "## OOP multiple Classes"
   ]
  },
  {
   "cell_type": "code",
   "execution_count": 21,
   "metadata": {},
   "outputs": [
    {
     "name": "stdout",
     "output_type": "stream",
     "text": [
      "i'm just a class A method\n",
      "i'm just a class B method\n",
      "hello from class A\n",
      "(<class '__main__.C'>, <class '__main__.A'>, <class '__main__.B'>, <class 'object'>)\n"
     ]
    }
   ],
   "source": [
    "class A:\n",
    "    def class_a_method(self):\n",
    "        return \"i\\'m just a class A method\"\n",
    "    def hello(self):\n",
    "        return 'hello from class A'\n",
    "\n",
    "class B:\n",
    "    def class_b_method(self):\n",
    "        return \"i\\'m just a class B method\"\n",
    "    def hello(self):\n",
    "        return 'hello from class B'\n",
    "\n",
    "class C(A,B):\n",
    "    pass\n",
    "\n",
    "instance_c = C()\n",
    "print(instance_c.class_a_method())\n",
    "print(instance_c.class_b_method())\n",
    "print(instance_c.hello())\n",
    "#print(help(C))\n",
    "print(C.__mro__)\n"
   ]
  },
  {
   "cell_type": "code",
   "execution_count": null,
   "metadata": {},
   "outputs": [],
   "source": []
  }
 ],
 "metadata": {
  "kernelspec": {
   "display_name": "Python 3",
   "language": "python",
   "name": "python3"
  },
  "language_info": {
   "codemirror_mode": {
    "name": "ipython",
    "version": 3
   },
   "file_extension": ".py",
   "mimetype": "text/x-python",
   "name": "python",
   "nbconvert_exporter": "python",
   "pygments_lexer": "ipython3",
   "version": "3.8.5"
  }
 },
 "nbformat": 4,
 "nbformat_minor": 4
}
