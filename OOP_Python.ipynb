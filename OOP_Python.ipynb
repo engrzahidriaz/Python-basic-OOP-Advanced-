{
 "cells": [
  {
   "cell_type": "markdown",
   "metadata": {},
   "source": [
    "# OOP Python\n",
    "##### class (e.g Laptop:) and objects (e.g L1 = Laptop()) are created\n",
    "##### class consist of attributes (e.g __init__ function) and methods (function) of objects"
   ]
  },
  {
   "cell_type": "code",
   "execution_count": 57,
   "metadata": {},
   "outputs": [
    {
     "name": "stdout",
     "output_type": "stream",
     "text": [
      "<__main__.Student object at 0x0000023F077B43B0>\n",
      "Faseeh\n",
      "4\n"
     ]
    }
   ],
   "source": [
    "# create class\n",
    "class Student:\n",
    "    name = \"Faseeh\"      \n",
    "    age = 4\n",
    "\n",
    "# create object\n",
    "s1 = Student()\n",
    "print(s1)\n",
    "print(s1.name)    \n",
    "print(s1.age)"
   ]
  },
  {
   "cell_type": "code",
   "execution_count": 56,
   "metadata": {},
   "outputs": [
    {
     "name": "stdout",
     "output_type": "stream",
     "text": [
      "gp1\n",
      "250000\n"
     ]
    }
   ],
   "source": [
    "class Laptop:\n",
    "    brand_name = \"dell\"\n",
    "    model_name = \"gp1\"\n",
    "    price = \"250000\"\n",
    "        \n",
    "L1 = Laptop()\n",
    "print(L1.model_name)\n",
    "print(L1.price)"
   ]
  },
  {
   "cell_type": "code",
   "execution_count": 60,
   "metadata": {},
   "outputs": [
    {
     "name": "stdout",
     "output_type": "stream",
     "text": [
      "gf1 25000\n"
     ]
    }
   ],
   "source": [
    "class Laptop:\n",
    "    def __init__(self, brand_name, model_name, price):   # constract the parameters of object\n",
    "        self.brand_name = brand_name\n",
    "        self.model_name = model_name\n",
    "        self.price = price\n",
    "   \n",
    "        \n",
    "L1 = Laptop('dell','gf1',15000)\n",
    "L2 = Laptop('hp','gp2',25000)\n",
    "print(L1.model_name, L2.price)"
   ]
  },
  {
   "cell_type": "code",
   "execution_count": 40,
   "metadata": {},
   "outputs": [
    {
     "name": "stdout",
     "output_type": "stream",
     "text": [
      "init method // constractor get called\n",
      "<__main__.Person object at 0x0000023F077B6930>\n",
      "zahid\n"
     ]
    }
   ],
   "source": [
    "class Person:\n",
    "    def __init__(self, first_name, last_name, age):\n",
    "        print('init method // constractor get called') # call for every object (here is two objects p1 and p2)\n",
    "        print(self)\n",
    "        self.first_name = first_name\n",
    "        self.last_name = last_name\n",
    "        self.age = age\n",
    "\n",
    "p1 = Person('zahid', 'riaz', 31)\n",
    "p2 = Person('abdul','Hadi', 2)\n",
    "\n",
    "print(p1.first_name)\n",
    "print(p2.last_name)"
   ]
  },
  {
   "cell_type": "markdown",
   "metadata": {},
   "source": [
    "### OOP instance method --> Method take self attributes (mean object attriutes) as argument"
   ]
  },
  {
   "cell_type": "code",
   "execution_count": 54,
   "metadata": {},
   "outputs": [
    {
     "name": "stdout",
     "output_type": "stream",
     "text": [
      "<class 'list'>\n"
     ]
    }
   ],
   "source": [
    "l = [1,2,3]    # l is object of List class having numbers\n",
    "l.pop()        # pop() is function of list class\n",
    "\n",
    "print(type(l))"
   ]
  },
  {
   "cell_type": "markdown",
   "metadata": {},
   "source": [
    "#### Encapsulation --> Bundling data and methods that operate on that data within a single unit (class)"
   ]
  },
  {
   "cell_type": "code",
   "execution_count": 61,
   "metadata": {},
   "outputs": [
    {
     "name": "stdout",
     "output_type": "stream",
     "text": [
      "<__main__.Person object at 0x0000023F077DF080>\n",
      "zahid  riaz\n",
      "False\n"
     ]
    }
   ],
   "source": [
    "# create class named Person\n",
    "class Person:\n",
    "    # create attribute function --> define specifications of object\n",
    "    def __init__(self, first_name, last_name, age):   # __init__ is constructor function define attributes (vaiables, data) of object of class\n",
    "        self.first_name = first_name    # self (object itself) -> used as reference to object, to access the variables of class\n",
    "        self.last_name = last_name\n",
    "        self.age = age\n",
    "\n",
    "    # create Methods function --> define functions of object\n",
    "    # instance method  --> # take self as argument\n",
    "    def full_name(self):\n",
    "        return f\"{self.first_name}  {self.last_name}\"\n",
    "    def above_18(self):\n",
    "        return self.age > 18\n",
    "    \n",
    "# create objects (instance) p1, p2 \n",
    "p1 = Person('zahid', 'riaz', 31)     # p1 is object of Person class having name and age\n",
    "p2 = Person('faseeh', 'zahid', 3)\n",
    "print(p1)                       # output will show class name (Person) and type (object)\n",
    "print(p1.full_name())           # full_name() is method function of Person class   ## similarly l.pop()\n",
    "Person.full_name(p1)            ## similarly list.append(l,10)\n",
    "print(p2.above_18())            # above_18() is another function of Person class"
   ]
  },
  {
   "cell_type": "code",
   "execution_count": 16,
   "metadata": {},
   "outputs": [
    {
     "name": "stdout",
     "output_type": "stream",
     "text": [
      "13500.0\n"
     ]
    }
   ],
   "source": [
    "class Laptop:\n",
    "    def __init__(self, brand_name, model_name, price):\n",
    "        self.brand_name = brand_name\n",
    "        self.model_name = model_name\n",
    "        self.price = price\n",
    "    def discount(self,num):\n",
    "        return self.price - (num/100)*self.price\n",
    "\n",
    "p1 = Laptop('dell','gf1',15000)\n",
    "print(p1.discount(10))"
   ]
  },
  {
   "cell_type": "code",
   "execution_count": 17,
   "metadata": {},
   "outputs": [
    {
     "name": "stdout",
     "output_type": "stream",
     "text": [
      "25.12\n"
     ]
    }
   ],
   "source": [
    "class Circle:\n",
    "    def __init__(self, radius, pi):\n",
    "        self.radius = radius\n",
    "        self.pi = pi\n",
    "    def circum(self):\n",
    "        return 2*self.pi*self.radius\n",
    "\n",
    "c1 = Circle(4, 3.14)\n",
    "c2 = Circle(5, 3.14)\n",
    "print(c1.circum())"
   ]
  },
  {
   "cell_type": "code",
   "execution_count": 45,
   "metadata": {},
   "outputs": [
    {
     "name": "stdout",
     "output_type": "stream",
     "text": [
      "3.14\n",
      "3.14\n",
      "25.12\n"
     ]
    }
   ],
   "source": [
    "class Circle:\n",
    "    pi = 3.14     # class attribute\n",
    "    def __init__(self, radius):\n",
    "        self.radius = radius      # object attribute \n",
    "    def circum(self):\n",
    "        return 2*Circle.pi*self.radius\n",
    "\n",
    "c1 = Circle(4)\n",
    "c2 = Circle(5)\n",
    "print(c1.pi)       # pi is same attributes to all object\n",
    "print(c2.pi)\n",
    "print(c1.circum())"
   ]
  },
  {
   "cell_type": "code",
   "execution_count": 19,
   "metadata": {},
   "outputs": [
    {
     "name": "stdout",
     "output_type": "stream",
     "text": [
      "13500.0\n"
     ]
    }
   ],
   "source": [
    "class Laptop:\n",
    "    discount_per = 10\n",
    "    def __init__(self, brand_name, model_name, price):\n",
    "        self.brand_name = brand_name\n",
    "        self.model_name = model_name\n",
    "        self.price = price\n",
    "    def discount(self):\n",
    "        return self.price - (Laptop.discount_per/100)*self.price\n",
    "    \n",
    "p1 = Laptop('dell','gf1',15000)\n",
    "print(p1.discount())"
   ]
  },
  {
   "cell_type": "code",
   "execution_count": 20,
   "metadata": {},
   "outputs": [
    {
     "name": "stdout",
     "output_type": "stream",
     "text": [
      "{'brand_name': 'apple', 'model_name': 'macbook', 'price': 55000, 'discount_per': 50}\n",
      "27500.0\n"
     ]
    }
   ],
   "source": [
    "class Laptop:\n",
    "    discount_per = 10\n",
    "    def __init__(self, brand_name, model_name, price):\n",
    "        self.brand_name = brand_name\n",
    "        self.model_name = model_name\n",
    "        self.price = price\n",
    "    def discount(self):\n",
    "        return self.price - (self.discount_per/100)*self.price\n",
    "\n",
    "p1 = Laptop('dell','gf1',15000)\n",
    "p2 = Laptop('apple','macbook',55000)\n",
    "p2.discount_per = 50\n",
    "print(p2.__dict__)\n",
    "print(p2.discount())"
   ]
  },
  {
   "cell_type": "markdown",
   "metadata": {},
   "source": [
    "#### instance method --> Method take self attributes (mean object attriutes) as argument\n",
    "#### class Methods --> method take class attributes (not object attributes) as argument\n",
    "#### static Method --> method take nothing as argument"
   ]
  },
  {
   "cell_type": "code",
   "execution_count": 78,
   "metadata": {},
   "outputs": [
    {
     "name": "stdout",
     "output_type": "stream",
     "text": [
      "hello, static method called\n",
      "you have created 2 of person class\n",
      "zahid  riaz\n"
     ]
    }
   ],
   "source": [
    "class Person:\n",
    "    count_instance = 0\n",
    "    def __init__(self, first_name, last_name, age):\n",
    "        Person.count_instance += 1\n",
    "        self.first_name = first_name\n",
    "        self.last_name = last_name\n",
    "        self.age = age\n",
    "\n",
    "    @classmethod   # method take class attributea as argument\n",
    "    def count_instances(cls):\n",
    "        return f\"you have created {cls.count_instance} of person class\"\n",
    "\n",
    "    @staticmethod   # method take nothing as argument, mean no attribute used\n",
    "    def hello():   \n",
    "        print('hello, static method called')\n",
    "\n",
    "    def full_name(self):   # Method take self (object) attributes as argument \n",
    "        return f\"{self.first_name}  {self.last_name}\"\n",
    "    def above_18(self):\n",
    "        return self.age > 18\n",
    "\n",
    "p1 = Person('zahid', 'riaz', 31)\n",
    "p2 = Person('amjad', 'hussain', 32)\n",
    "\n",
    "p1.hello()\n",
    "print(Person.count_instances())\n",
    "print(p1.full_name())"
   ]
  },
  {
   "cell_type": "code",
   "execution_count": 13,
   "metadata": {},
   "outputs": [
    {
     "name": "stdout",
     "output_type": "stream",
     "text": [
      "1000\n",
      "{'brand': 'nokia', 'model_name': '1100', '_price': 1000}\n"
     ]
    }
   ],
   "source": [
    "class Phone:\n",
    "    def __init__(self, brand, model_name, price):\n",
    "        self.brand = brand\n",
    "        self.model_name = model_name\n",
    "        self._price = price\n",
    "    \n",
    "    def make_a_call(self, phone_number):\n",
    "        print(f\"calling {phone_number}\")\n",
    "\n",
    "    def full_name(self):\n",
    "        print(f\"{self.brand} {self.model_name}\")\n",
    "\n",
    "phone1 = Phone('nokia', '1100', 1000)\n",
    "print(phone1._price)\n",
    "print(phone1.__dict__)"
   ]
  },
  {
   "cell_type": "code",
   "execution_count": 15,
   "metadata": {},
   "outputs": [
    {
     "name": "stdout",
     "output_type": "stream",
     "text": [
      "[1, 2, 3, 4]\n"
     ]
    }
   ],
   "source": [
    "# _name # convention of private name\n",
    "# __name # name mangling\n",
    "# __init__ # dunder\n",
    "\n",
    "l = [4,3,1,2]\n",
    "l.sort()        # tim sorting\n",
    "print(l)"
   ]
  },
  {
   "cell_type": "markdown",
   "metadata": {},
   "source": [
    "##### The four main pillars of Object-Oriented Programming (OOP) are:\n",
    "\n",
    "#### 1-__Encapsulation:__ Bundling data and methods that operate on that data within a single unit (class) and restricting access to some components.\n",
    "\n",
    "#### 2-__Abstraction:__ Hiding complex implementation details and exposing only the essential features of an object.\n",
    "\n",
    "#### 3-__Inheritance:__ Allowing a class to inherit properties and methods from another class, promoting code reuse.\n",
    "\n",
    "#### 4-__Polymorphism:__ Enabling objects to be treated as instances method of their parent class, allowing a single function to operate on different types."
   ]
  },
  {
   "cell_type": "markdown",
   "metadata": {},
   "source": [
    "## Class Inheritance\n",
    "#### to access attribute and methods from another class"
   ]
  },
  {
   "cell_type": "code",
   "execution_count": 75,
   "metadata": {},
   "outputs": [
    {
     "name": "stdout",
     "output_type": "stream",
     "text": [
      "oneplus 5 and price is 30000\n",
      "None\n",
      "oneplus 5 and price is 30000\n",
      "None\n"
     ]
    }
   ],
   "source": [
    "class Phone:\n",
    "    def __init__(self, brand, model_name, price):\n",
    "        self.brand = brand\n",
    "        self.model_name = model_name\n",
    "        self._price = price\n",
    "    \n",
    "    def make_a_call(self, phone_number):\n",
    "        return f\"calling {phone_number}\"\n",
    "\n",
    "    def full_name(self):\n",
    "        return f\"{self.brand} {self.model_name}\"\n",
    "\n",
    "class Smartphone(Phone):           # inherit attributes and methods from Phone class\n",
    "    def __init__(self, brand, model_name, price, ram, rear_camera):\n",
    "        Phone.__init__(self, brand, model_name, price)  # take attributes from class Phone\n",
    "        self.ram = ram\n",
    "        self.rear_camera = rear_camera\n",
    "    \n",
    "    def full_name(self):\n",
    "        print(f\"{self.brand} {self.model_name} and price is {self._price}\")\n",
    "\n",
    "class FlagshipPhone(Smartphone):\n",
    "    def __init__(self, brand, model_name, price, ram, rear_camera, front_camera):\n",
    "        super().__init__(brand, model_name, price, ram, rear_camera) # take attributes from classes Phone and Smartphone\n",
    "        self.front_camera = front_camera\n",
    "        \n",
    "        def full_name(self):\n",
    "            print(f\"{self.brand} {self.model_name} and price is {self._price} and {self.front_camera}\")\n",
    "\n",
    "phone1 = Phone('nokia', '1100', 1000)\n",
    "smartphone = Smartphone('oneplus', '5', 30000, '6 gb', '32 MP')\n",
    "oneplus = FlagshipPhone('oneplus', '5', 30000, '6 gb', '32 MP', '16 MP')\n",
    "print(smartphone.full_name())\n",
    "#help(Smartphone)\n",
    "print(oneplus.full_name())\n",
    "#help(FlagshipPhone)\n"
   ]
  },
  {
   "cell_type": "markdown",
   "metadata": {},
   "source": [
    "## OOP multiple Classes (Polymorphism)"
   ]
  },
  {
   "cell_type": "code",
   "execution_count": 79,
   "metadata": {},
   "outputs": [
    {
     "name": "stdout",
     "output_type": "stream",
     "text": [
      "i'm just a class A method\n",
      "i'm just a class B method\n",
      "hello from class A\n",
      "(<class '__main__.C'>, <class '__main__.A'>, <class '__main__.B'>, <class 'object'>)\n"
     ]
    }
   ],
   "source": [
    "class A:\n",
    "    def class_a_method(self):\n",
    "        return \"i\\'m just a class A method\"\n",
    "    def hello(self):\n",
    "        return 'hello from class A'\n",
    "\n",
    "class B:\n",
    "    def class_b_method(self):\n",
    "        return \"i\\'m just a class B method\"\n",
    "    def hello(self):\n",
    "        return 'hello from class B'\n",
    "\n",
    "class C(A,B):\n",
    "    pass\n",
    "\n",
    "instance_c = C()\n",
    "print(instance_c.class_a_method())\n",
    "print(instance_c.class_b_method())\n",
    "print(instance_c.hello())\n",
    "#print(help(C))\n",
    "print(C.__mro__)\n"
   ]
  },
  {
   "cell_type": "markdown",
   "metadata": {},
   "source": [
    "## END"
   ]
  }
 ],
 "metadata": {
  "kernelspec": {
   "display_name": "Python 3",
   "language": "python",
   "name": "python3"
  },
  "language_info": {
   "codemirror_mode": {
    "name": "ipython",
    "version": 3
   },
   "file_extension": ".py",
   "mimetype": "text/x-python",
   "name": "python",
   "nbconvert_exporter": "python",
   "pygments_lexer": "ipython3",
   "version": "3.12.6"
  }
 },
 "nbformat": 4,
 "nbformat_minor": 4
}
