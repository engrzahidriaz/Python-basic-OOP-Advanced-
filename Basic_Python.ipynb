{
 "cells": [
  {
   "cell_type": "markdown",
   "metadata": {},
   "source": [
    "# Basic Python"
   ]
  },
  {
   "cell_type": "code",
   "execution_count": 1,
   "metadata": {},
   "outputs": [
    {
     "name": "stdout",
     "output_type": "stream",
     "text": [
      "hello friends\n"
     ]
    }
   ],
   "source": [
    "print(\"hello friends\")  "
   ]
  },
  {
   "cell_type": "code",
   "execution_count": 2,
   "metadata": {},
   "outputs": [
    {
     "name": "stdout",
     "output_type": "stream",
     "text": [
      "this is \\ single backslash\n",
      "this is \\\\ double backslash\n",
      "these are /\\/\\/\\/\\/\\ mountains\n",
      "he is \t awesome\n",
      "\\\" \\' \\t \\n\n",
      "he is \\t awesome\n"
     ]
    }
   ],
   "source": [
    "print(\"this is \\\\ single backslash\")\n",
    "\n",
    "print(\"this is \\\\\\\\ double backslash\")\n",
    "\n",
    "print(\"these are /\\\\/\\\\/\\\\/\\\\/\\\\ mountains\")\n",
    "\n",
    "print('he is \\t awesome')\n",
    "\n",
    "print('\\\\\\\" \\\\\\' \\\\t \\\\n')\n",
    "\n",
    "print(r\"he is \\t awesome\")"
   ]
  },
  {
   "cell_type": "code",
   "execution_count": 3,
   "metadata": {},
   "outputs": [
    {
     "name": "stdout",
     "output_type": "stream",
     "text": [
      "😀\n",
      "😛\n"
     ]
    }
   ],
   "source": [
    "print(\"\\U0001F600\")\n",
    "print(\"\\U0001F61B\")"
   ]
  },
  {
   "cell_type": "code",
   "execution_count": 4,
   "metadata": {},
   "outputs": [
    {
     "name": "stdout",
     "output_type": "stream",
     "text": [
      "6\n",
      "8\n",
      "1.4142135623730951\n",
      "1.4142\n",
      "3\n"
     ]
    }
   ],
   "source": [
    "print(2*3)\n",
    "print(2**3)\n",
    "print(2**.5)\n",
    "print(round(2**.5, 4))\n",
    "a = 3\n",
    "print(a)"
   ]
  },
  {
   "cell_type": "code",
   "execution_count": 5,
   "metadata": {},
   "outputs": [
    {
     "name": "stdout",
     "output_type": "stream",
     "text": [
      "zahid123\n"
     ]
    }
   ],
   "source": [
    "print(\"zahid\" + str(123))"
   ]
  },
  {
   "cell_type": "code",
   "execution_count": 6,
   "metadata": {},
   "outputs": [
    {
     "name": "stdout",
     "output_type": "stream",
     "text": [
      "Zahid\n"
     ]
    }
   ],
   "source": [
    "name = input(\"what is your name:\")\n",
    "\n",
    "print(name)"
   ]
  },
  {
   "cell_type": "code",
   "execution_count": 7,
   "metadata": {},
   "outputs": [
    {
     "name": "stdout",
     "output_type": "stream",
     "text": [
      "48.0\n"
     ]
    }
   ],
   "source": [
    "number = int(input(\"enter number\"))\n",
    "\n",
    "mother_age = int(input(\"my mother age is:\"))\n",
    "father_age = int(input(\"my father age is:\"))\n",
    "my_age = int(input(\"my age is:\"))\n",
    "print((mother_age + father_age + my_age)/3)"
   ]
  },
  {
   "cell_type": "code",
   "execution_count": 9,
   "metadata": {},
   "outputs": [
    {
     "name": "stdout",
     "output_type": "stream",
     "text": [
      "Islamabad\n",
      "reverse order dabamalsI\n",
      "1\n"
     ]
    }
   ],
   "source": [
    "city = input(\"in which city are you live?\")\n",
    "print(city)\n",
    "print(f\"reverse order {city[::-1]}\")\n",
    "\n",
    "print(\"zAhId\".count(\"h\"))"
   ]
  },
  {
   "cell_type": "code",
   "execution_count": 10,
   "metadata": {},
   "outputs": [
    {
     "name": "stdout",
     "output_type": "stream",
     "text": [
      "upper number\n"
     ]
    }
   ],
   "source": [
    "winning_num = 10\n",
    "guss_num = int(input(\"the wininng number is:\"))\n",
    "if guss_num == winning_num:\n",
    "   print(\"you win !!!\")\n",
    "elif guss_num < winning_num:\n",
    "    print(\"lower number\")\n",
    "else:\n",
    "   print(\"upper number\")"
   ]
  },
  {
   "cell_type": "markdown",
   "metadata": {},
   "source": [
    "## while_loop\n",
    "#### --> control _flow statement_ that repeatedly executes a block of code as long as a specified condition is __True__\n",
    "#### --> It’s useful for tasks that require repeated action until a particular condition changes."
   ]
  },
  {
   "cell_type": "code",
   "execution_count": 2,
   "metadata": {},
   "outputs": [
    {
     "name": "stdout",
     "output_type": "stream",
     "text": [
      "1\n",
      "2\n",
      "3\n",
      "4\n",
      "5\n"
     ]
    }
   ],
   "source": [
    "# while condition:\n",
    "    # code to execute repeatedly\n",
    "\n",
    "count = 1\n",
    "while count <= 5:\n",
    "    print(count)\n",
    "    count += 1"
   ]
  },
  {
   "cell_type": "code",
   "execution_count": null,
   "metadata": {},
   "outputs": [
    {
     "name": "stdout",
     "output_type": "stream",
     "text": [
      "1 2 3 4 5 6 7 8 9 10 11 "
     ]
    }
   ],
   "source": [
    "# count 1, 2, 3, ...., 11\n",
    "k = 0\n",
    "while k <=10:  \n",
    "    k += 1\n",
    "    print(k, end=\" \")"
   ]
  },
  {
   "cell_type": "code",
   "execution_count": 47,
   "metadata": {
    "scrolled": true
   },
   "outputs": [
    {
     "name": "stdout",
     "output_type": "stream",
     "text": [
      "1\n",
      "2\n",
      "4\n",
      "7\n",
      "11\n",
      "16\n",
      "22\n",
      "29\n",
      "37\n",
      "46\n",
      "56\n",
      "overall sum: 56\n"
     ]
    }
   ],
   "source": [
    "sum = 1\n",
    "k = 0\n",
    "while k <=10:\n",
    "   sum = sum + k\n",
    "   k = k + 1\n",
    "   print(sum)\n",
    "print(f\"overall sum: {sum}\")"
   ]
  },
  {
   "cell_type": "code",
   "execution_count": 13,
   "metadata": {},
   "outputs": [
    {
     "name": "stdout",
     "output_type": "stream",
     "text": [
      "10\n"
     ]
    }
   ],
   "source": [
    "Num = input(\"enter the numbers: \")  # Num = [1234]\n",
    "sum = 0\n",
    "k = 0\n",
    "while k < len(Num):\n",
    "   sum += int(Num[k])\n",
    "   k += 1\n",
    "print(sum)"
   ]
  },
  {
   "cell_type": "code",
   "execution_count": 18,
   "metadata": {},
   "outputs": [
    {
     "name": "stdout",
     "output_type": "stream",
     "text": [
      "s : 1\n",
      "h : 2\n",
      "a : 1\n",
      "i : 1\n",
      "d : 1\n"
     ]
    }
   ],
   "source": [
    "name = input(\"enter your name: \")  # name = shahid\n",
    "temp_var = \"\"\n",
    "k = 0\n",
    "while k < len(name):\n",
    "   if name[k] not in temp_var:\n",
    "       temp_var += name[k]\n",
    "       print(f\"{name[k]} : {name.count(name[k])}\")\n",
    "   k +=1"
   ]
  },
  {
   "cell_type": "markdown",
   "metadata": {},
   "source": [
    "## for_loop\n",
    "#### --> control _flow statement_ that iterates over a sequence (such as a list, tuple, dictionary, set, or string) and executes a block of code for each element in the sequence. \n",
    "#### --> It’s typically used when you know in advance the number of iterations needed."
   ]
  },
  {
   "cell_type": "code",
   "execution_count": 3,
   "metadata": {},
   "outputs": [
    {
     "name": "stdout",
     "output_type": "stream",
     "text": [
      "apple\n",
      "banana\n",
      "cherry\n"
     ]
    }
   ],
   "source": [
    "# for variable in sequence:\n",
    "    # code to execute for each item\n",
    "\n",
    "fruits = [\"apple\", \"banana\", \"cherry\"]\n",
    "for fruit in fruits:\n",
    "    print(fruit)"
   ]
  },
  {
   "cell_type": "code",
   "execution_count": 48,
   "metadata": {},
   "outputs": [
    {
     "name": "stdout",
     "output_type": "stream",
     "text": [
      "1 2 3 4 5 6 7 8 9 10 "
     ]
    }
   ],
   "source": [
    "# count 1, 2, 3, ......\n",
    "for k in range(1,11):\n",
    "    print(k, end=\" \")"
   ]
  },
  {
   "cell_type": "code",
   "execution_count": 27,
   "metadata": {},
   "outputs": [
    {
     "name": "stdout",
     "output_type": "stream",
     "text": [
      "55\n"
     ]
    }
   ],
   "source": [
    "sum = 0\n",
    "for k in range(1,11):\n",
    "   sum += k\n",
    "print(sum)"
   ]
  },
  {
   "cell_type": "code",
   "execution_count": 29,
   "metadata": {},
   "outputs": [
    {
     "name": "stdout",
     "output_type": "stream",
     "text": [
      "6\n"
     ]
    }
   ],
   "source": [
    "num = input(\"enter the number: \")   # num = [123]\n",
    "sum = 0\n",
    "for k in range(0, len(num)):   \n",
    "   sum += int(num[k])\n",
    "print(sum)"
   ]
  },
  {
   "cell_type": "code",
   "execution_count": 30,
   "metadata": {},
   "outputs": [
    {
     "name": "stdout",
     "output_type": "stream",
     "text": [
      "6\n"
     ]
    }
   ],
   "source": [
    "# Alternate_method\n",
    "\n",
    "num = input(\"enter the number: \")\n",
    "sum = 0\n",
    "for k in num:\n",
    "   sum += int(k)\n",
    "print(sum)"
   ]
  },
  {
   "cell_type": "code",
   "execution_count": 37,
   "metadata": {},
   "outputs": [
    {
     "name": "stdout",
     "output_type": "stream",
     "text": [
      "60\n"
     ]
    }
   ],
   "source": [
    "import random\n",
    "winning_number = random.randint(0,100)   # number between 0 to 100\n",
    "print(winning_number)"
   ]
  },
  {
   "cell_type": "code",
   "execution_count": 50,
   "metadata": {},
   "outputs": [
    {
     "name": "stdout",
     "output_type": "stream",
     "text": [
      "1 3 5 7 9  \n",
      "11 10 9 8 7 6 5 4 3 2 1  \n",
      "z a h i d "
     ]
    }
   ],
   "source": [
    "for k in range(1,11,2):    # from 1 to 11, differance is 2\n",
    "    print(k, end=\" \")\n",
    "\n",
    "print(\" \")\n",
    "\n",
    "for k in range(11,0,-1):    # from 11 to 0 in reverse order\n",
    "    print(k, end=\" \")\n",
    "\n",
    "print(\" \")\n",
    "\n",
    "for k in \"zahid\":\n",
    "    print(k, end=\" \")"
   ]
  },
  {
   "cell_type": "markdown",
   "metadata": {},
   "source": [
    "## functions\n",
    "#### --> reusable block of code that performs a specific task.\n",
    "#### --> allow you to encapsulate code, making it modular, organized, and easier to debug"
   ]
  },
  {
   "cell_type": "code",
   "execution_count": null,
   "metadata": {},
   "outputs": [
    {
     "name": "stdout",
     "output_type": "stream",
     "text": [
      "16\n"
     ]
    }
   ],
   "source": [
    "# def function_name(parameters):\n",
    "    # code block\n",
    "    # return result  # (optional)\n",
    "\n",
    "\n",
    "def squares(number):\n",
    "    return number ** 2\n",
    "\n",
    "result = squares(4)\n",
    "print(result)"
   ]
  },
  {
   "cell_type": "code",
   "execution_count": 68,
   "metadata": {},
   "outputs": [
    {
     "data": {
      "text/plain": [
       "'hello I am here'"
      ]
     },
     "execution_count": 68,
     "metadata": {},
     "output_type": "execute_result"
    }
   ],
   "source": [
    "def showFun():\n",
    "    return 'hello I am here'\n",
    "showFun()"
   ]
  },
  {
   "cell_type": "code",
   "execution_count": 66,
   "metadata": {},
   "outputs": [
    {
     "data": {
      "text/plain": [
       "'happy birthday song'"
      ]
     },
     "execution_count": 66,
     "metadata": {},
     "output_type": "execute_result"
    }
   ],
   "source": [
    "def song():\n",
    "    return \"happy birthday song\"\n",
    "song()"
   ]
  },
  {
   "cell_type": "code",
   "execution_count": 56,
   "metadata": {},
   "outputs": [
    {
     "name": "stdout",
     "output_type": "stream",
     "text": [
      "7\n",
      "zahid Riaz\n"
     ]
    }
   ],
   "source": [
    "def add_two(a,b):\n",
    "    return a + b\n",
    "\n",
    "print(add_two(3,4))\n",
    "print(add_two(\"zahid\",\" Riaz\"))"
   ]
  },
  {
   "cell_type": "code",
   "execution_count": 60,
   "metadata": {},
   "outputs": [
    {
     "name": "stdout",
     "output_type": "stream",
     "text": [
      "Z\n"
     ]
    }
   ],
   "source": [
    "def char(name):\n",
    "    return print(name[0]) \n",
    "\n",
    "char(\"Zahid\")"
   ]
  },
  {
   "cell_type": "code",
   "execution_count": 64,
   "metadata": {},
   "outputs": [
    {
     "name": "stdout",
     "output_type": "stream",
     "text": [
      "even\n",
      "even\n",
      "False\n"
     ]
    }
   ],
   "source": [
    "def odd_even(num):\n",
    "    if num%2 == 0:\n",
    "        return \"even\"\n",
    "    else:\n",
    "        return \"odd\"   \n",
    "print(odd_even(8))\n",
    "\n",
    "# Alternative_method\n",
    "def odd_even(num):\n",
    "    if num%2 == 0:\n",
    "        return \"even\"\n",
    "    return \"odd\"\n",
    "print(odd_even(8))\n",
    "\n",
    "# alternative_method_2\n",
    "def even(num):\n",
    "    return num%2 == 0\n",
    "print(even(7))"
   ]
  },
  {
   "cell_type": "code",
   "execution_count": 30,
   "metadata": {},
   "outputs": [
    {
     "name": "stdout",
     "output_type": "stream",
     "text": [
      "6 is greater\n"
     ]
    }
   ],
   "source": [
    "def greater_num(a,b):\n",
    "    if a>b:\n",
    "        return a\n",
    "    return b\n",
    "bigger = greater_num(3,6)\n",
    "print(f\"{bigger} is greater\")"
   ]
  },
  {
   "cell_type": "code",
   "execution_count": 67,
   "metadata": {},
   "outputs": [
    {
     "name": "stdout",
     "output_type": "stream",
     "text": [
      "True\n"
     ]
    }
   ],
   "source": [
    "any_word = input('palimdrome: ')   # rotor, level\n",
    "def is_palimdrome(word):\n",
    "      return word == any_word[::-1]\n",
    "print(is_palimdrome(any_word))"
   ]
  },
  {
   "cell_type": "markdown",
   "metadata": {},
   "source": [
    "## List\n",
    "#### --> built-in data structure that allows you to store an ordered collection of items, which can be of any data type (integers, strings, objects, etc.).\n",
    "#### --> every list contain same data types\n",
    "#### --> Lists are mutable, meaning you can add, remove, or modify elements"
   ]
  },
  {
   "cell_type": "code",
   "execution_count": 6,
   "metadata": {},
   "outputs": [],
   "source": [
    "# my_list = [item1, item2, item3, ...]"
   ]
  },
  {
   "cell_type": "code",
   "execution_count": 69,
   "metadata": {},
   "outputs": [
    {
     "name": "stdout",
     "output_type": "stream",
     "text": [
      "['mango', 'apple', 'graps', 'banana']\n",
      "['apple', 'graps']\n"
     ]
    }
   ],
   "source": [
    "fruits = ['mango','apple','graps']\n",
    "fruits.append('banana')     # add banana at the end\n",
    "print(fruits)\n",
    "print(fruits[1:-1])         # show 2nd and 2nd last element"
   ]
  },
  {
   "cell_type": "markdown",
   "metadata": {},
   "source": [
    "##### built-in functions:\n",
    "##### add --> append , extend, insert\n",
    "##### delete --> pop, remove, del\n",
    "##### few methods --> sort, sorted, clear, copy\n",
    "##### compare --> == , is"
   ]
  },
  {
   "cell_type": "code",
   "execution_count": 74,
   "metadata": {},
   "outputs": [
    {
     "name": "stdout",
     "output_type": "stream",
     "text": [
      "mango, apple, graps, banana, kiwi, \n",
      "mango\n",
      "apple\n",
      "graps\n",
      "banana\n",
      "kiwi\n"
     ]
    }
   ],
   "source": [
    "fruits = ['mango','apple','graps','banana','kiwi']\n",
    "for fruit in fruits:\n",
    "   print(fruit, end=\", \")\n",
    "\n",
    "print()\n",
    "\n",
    "fruit = 0\n",
    "while fruit < len(fruits):\n",
    "   print(fruits[fruit])\n",
    "   fruit += 1"
   ]
  },
  {
   "cell_type": "code",
   "execution_count": 95,
   "metadata": {},
   "outputs": [
    {
     "data": {
      "text/latex": [
       "$\\displaystyle \\left[\\begin{matrix}1 & 2 & 3\\\\4 & 5 & 6\\\\7 & 8 & 9\\end{matrix}\\right]$"
      ],
      "text/plain": [
       "Matrix([\n",
       "[1, 2, 3],\n",
       "[4, 5, 6],\n",
       "[7, 8, 9]])"
      ]
     },
     "execution_count": 95,
     "metadata": {},
     "output_type": "execute_result"
    }
   ],
   "source": [
    "from sympy import Matrix      # libary to work with matrix\n",
    "matrix = Matrix([[1,2,3],[4,5,6],[7,8,9]])  # to display in matrix form\n",
    "matrix\n"
   ]
  },
  {
   "cell_type": "code",
   "execution_count": 85,
   "metadata": {},
   "outputs": [
    {
     "name": "stdout",
     "output_type": "stream",
     "text": [
      "[7, 8, 9]\n",
      "5\n",
      "1, 2, 3, 4, 5, 6, 7, 8, 9, "
     ]
    }
   ],
   "source": [
    "matrix = [[1,2,3],[4,5,6],[7,8,9]]\n",
    "print(matrix[2])\n",
    "print(matrix[1][1])\n",
    "\n",
    "for sublist in matrix:    # loop in loop\n",
    "   for i in sublist:\n",
    "      print(i, end=\", \")"
   ]
  },
  {
   "cell_type": "code",
   "execution_count": 88,
   "metadata": {},
   "outputs": [
    {
     "name": "stdout",
     "output_type": "stream",
     "text": [
      "[1, 2, 3, 4, 5, 6, 7, 8, 9, 10]\n",
      "9\n",
      "[1, 2, 3, 4, 5, 6, 7, 8]\n"
     ]
    }
   ],
   "source": [
    "numbers = list(range(1,11))\n",
    "print(numbers)\n",
    "numbers.pop()\n",
    "print(numbers.pop())\n",
    "print(numbers)"
   ]
  },
  {
   "cell_type": "code",
   "execution_count": 93,
   "metadata": {},
   "outputs": [
    {
     "name": "stdout",
     "output_type": "stream",
     "text": [
      "[-1, -2, -3, -4, -5]\n"
     ]
    }
   ],
   "source": [
    "def nagitive_number(l):\n",
    "   nagitive = []\n",
    "   for i in l:\n",
    "      nagitive.append(-i)\n",
    "   return nagitive\n",
    "\n",
    "numberList = [1,2,3,4,5]\n",
    "print(nagitive_number(numberList))"
   ]
  },
  {
   "cell_type": "code",
   "execution_count": 96,
   "metadata": {},
   "outputs": [
    {
     "name": "stdout",
     "output_type": "stream",
     "text": [
      "[1, 4, 9, 16, 25]\n"
     ]
    }
   ],
   "source": [
    "my_list = [1,2,3,4,5]\n",
    "def squre_num(l):\n",
    "   square = []\n",
    "   for i in l:\n",
    "      square.append(i**2)\n",
    "   return square\n",
    "\n",
    "print(squre_num(my_list))"
   ]
  },
  {
   "cell_type": "code",
   "execution_count": 104,
   "metadata": {},
   "outputs": [
    {
     "name": "stdout",
     "output_type": "stream",
     "text": [
      "[5, 4, 3, 2, 1]\n",
      "[5, 4, 3, 2, 1]\n",
      "[5, 4, 3, 2, 1]\n"
     ]
    }
   ],
   "source": [
    "my_list = [1,2,3,4,5]\n",
    "def reverse_num(l):\n",
    "   reverse = []\n",
    "   for i in range(len(l)):\n",
    "      popped_item = l.pop()      # pop last element\n",
    "      reverse.append(popped_item)\n",
    "   return reverse\n",
    "print(reverse_num(my_list))\n",
    "\n",
    "#Alternate_method_1\n",
    "my_list = [1,2,3,4,5]\n",
    "def reverse_num(l):\n",
    "   return l[::-1]\n",
    "print(reverse_num(my_list))\n",
    "\n",
    "#Alternate_method_2\n",
    "my_list = [1,2,3,4,5]\n",
    "def reverse_num(l):\n",
    "   l.reverse()\n",
    "   return l\n",
    "print(reverse_num(my_list))"
   ]
  },
  {
   "cell_type": "code",
   "execution_count": 114,
   "metadata": {},
   "outputs": [
    {
     "name": "stdout",
     "output_type": "stream",
     "text": [
      "['cba', 'vut', 'zyx']\n"
     ]
    }
   ],
   "source": [
    "new_list = ['abc','tuv','xyz']\n",
    "def reverse_elements(l):\n",
    "   elements = []\n",
    "   for i in l:\n",
    "      elements.append(i[::-1])\n",
    "   return elements\n",
    "\n",
    "print(reverse_elements(new_list))"
   ]
  },
  {
   "cell_type": "code",
   "execution_count": 118,
   "metadata": {},
   "outputs": [
    {
     "name": "stdout",
     "output_type": "stream",
     "text": [
      "[[2, 4, 6, 8], [1, 3, 5, 7, 9]]\n"
     ]
    }
   ],
   "source": [
    "list1 = [1,2,3,4,5,6,7,8,9]\n",
    "def even_odd(l):\n",
    "   even = []\n",
    "   odd  = []\n",
    "   for i in l:\n",
    "      if i%2 == 0:\n",
    "         even.append(i)\n",
    "      else:\n",
    "         odd.append(i)\n",
    "   return [even] + [odd]\n",
    "print(even_odd(list1))"
   ]
  },
  {
   "cell_type": "code",
   "execution_count": 121,
   "metadata": {},
   "outputs": [
    {
     "name": "stdout",
     "output_type": "stream",
     "text": [
      "[4, 5]\n"
     ]
    }
   ],
   "source": [
    "list1 = [1,2,3,4,5]\n",
    "list2 = [4,5,6,7,8]\n",
    "def commen(l1,l2):\n",
    "   commen_list = []\n",
    "   for i in l1:\n",
    "      if i in l2:\n",
    "         commen_list.append(i)\n",
    "   return commen_list\n",
    "print(commen(list1,list2))"
   ]
  },
  {
   "cell_type": "code",
   "execution_count": 123,
   "metadata": {},
   "outputs": [
    {
     "name": "stdout",
     "output_type": "stream",
     "text": [
      "3\n"
     ]
    }
   ],
   "source": [
    "def sublist(l):\n",
    "   count = 0\n",
    "   for i in l:\n",
    "      if type(i) == list:\n",
    "         count += 1\n",
    "   return count\n",
    "mixed = [[2,3],4,6,[7,8],[3]]\n",
    "print(sublist(mixed))"
   ]
  },
  {
   "cell_type": "markdown",
   "metadata": {},
   "source": [
    "## Tuples\n",
    "#### --> every tuple can contain different data tyype \n",
    "#### --> tuples are immutable, meaning their elements cannot be modified, added, or removed."
   ]
  },
  {
   "cell_type": "code",
   "execution_count": 7,
   "metadata": {},
   "outputs": [],
   "source": [
    "# my_tuple = (item1, item2, item3, ...)"
   ]
  },
  {
   "cell_type": "code",
   "execution_count": 133,
   "metadata": {},
   "outputs": [
    {
     "name": "stdout",
     "output_type": "stream",
     "text": [
      "1\n",
      "2\n",
      "3\n",
      "4.0\n",
      "Hadi\n",
      "1\n",
      "2\n",
      "3\n",
      "4.0\n",
      "Hadi\n"
     ]
    }
   ],
   "source": [
    "mixed = (1,2,3,4.0,\"Hadi\")\n",
    "for i in mixed:\n",
    "    print(i)\n",
    "\n",
    "i = 0\n",
    "while i <= len(mixed)-1:\n",
    "    print(mixed[i])\n",
    "    i = i + 1"
   ]
  },
  {
   "cell_type": "code",
   "execution_count": 136,
   "metadata": {},
   "outputs": [
    {
     "name": "stdout",
     "output_type": "stream",
     "text": [
      "<class 'tuple'>\n",
      "<class 'tuple'>\n",
      "<class 'tuple'>\n"
     ]
    }
   ],
   "source": [
    "nums = (1,)\n",
    "words = ('word',)\n",
    "fruits = 'banana','apple',\"pear\"\n",
    "print(type(nums))\n",
    "print(type(fruits))\n",
    "print(type(words))"
   ]
  },
  {
   "cell_type": "code",
   "execution_count": 138,
   "metadata": {},
   "outputs": [
    {
     "name": "stdout",
     "output_type": "stream",
     "text": [
      "('zahid', ['sohaib', 'faizan'])\n"
     ]
    }
   ],
   "source": [
    "friends = ('zahid',['sohaib','qaiser'])\n",
    "friends[1].pop(1)\n",
    "friends[1].append(\"faizan\")\n",
    "print(friends)"
   ]
  },
  {
   "cell_type": "code",
   "execution_count": 139,
   "metadata": {},
   "outputs": [
    {
     "name": "stdout",
     "output_type": "stream",
     "text": [
      "1\n",
      "4.0\n"
     ]
    }
   ],
   "source": [
    "mixed = (1,2,3,4.0)\n",
    "print(min(mixed))\n",
    "print(max(mixed))"
   ]
  },
  {
   "cell_type": "code",
   "execution_count": 145,
   "metadata": {},
   "outputs": [
    {
     "data": {
      "text/plain": [
       "(5, 6)"
      ]
     },
     "execution_count": 145,
     "metadata": {},
     "output_type": "execute_result"
    }
   ],
   "source": [
    "def func(int1,int2):\n",
    "    add = int1 + int2\n",
    "    multi = int1 * int2\n",
    "    return add, multi\n",
    "# print(func(2,3))\n",
    "add, multi = func(2,3)      # add = 2, multi = 3\n",
    "add, multi"
   ]
  },
  {
   "cell_type": "code",
   "execution_count": 149,
   "metadata": {},
   "outputs": [
    {
     "name": "stdout",
     "output_type": "stream",
     "text": [
      "(1, 2, 3, 4, 5, 6, 7, 8, 9, 10)\n",
      "[1, 2, 3, 4, 5, 6, 7, 8, 9, 10]\n"
     ]
    }
   ],
   "source": [
    "num_tuple = tuple(range(1,11))\n",
    "num_list = list(range(1,11))\n",
    "print(num_tuple)\n",
    "print(num_list)"
   ]
  },
  {
   "cell_type": "code",
   "execution_count": 150,
   "metadata": {},
   "outputs": [
    {
     "name": "stdout",
     "output_type": "stream",
     "text": [
      "[1, 2, 3, 4, 5, 6, 7, 8, 9, 10]\n",
      "(1, 2, 3, 4, 5, 6, 7, 8, 9, 10)\n",
      "<class 'str'>\n"
     ]
    }
   ],
   "source": [
    "list_tuple = list((1, 2, 3, 4, 5, 6, 7, 8, 9, 10))\n",
    "print(list_tuple)\n",
    "tuple_str = str((1, 2, 3, 4, 5, 6, 7, 8, 9, 10))\n",
    "print(tuple_str)\n",
    "print(type(tuple_str))"
   ]
  },
  {
   "cell_type": "markdown",
   "metadata": {},
   "source": [
    "## Dictionaries  --> {'key' : value}\n",
    "#### --> built-in data structure that stores data in key-value pairs. \n",
    "#### --> Each key in a dictionary is unique, and it is used to access its associated value. \n",
    "#### --> Dictionaries are mutable, meaning that you can add, modify, or delete key-value pairs.\n",
    "#### --> for-loop: {for i, j in dict.items():} used"
   ]
  },
  {
   "cell_type": "code",
   "execution_count": 9,
   "metadata": {},
   "outputs": [
    {
     "name": "stdout",
     "output_type": "stream",
     "text": [
      "Alice\n"
     ]
    }
   ],
   "source": [
    "# my_dict = {key1: value1, key2: value2, ...}\n",
    "\n",
    "person = {\"name\": \"Alice\", \"age\": 25, \"city\": \"New York\"}\n",
    "print(person[\"name\"])  # Output: Alice"
   ]
  },
  {
   "cell_type": "code",
   "execution_count": 10,
   "metadata": {},
   "outputs": [],
   "source": [
    "# for i, j in dict.items():\n",
    "    # print(f\"(key is: {i}, value is: {j})\")"
   ]
  },
  {
   "cell_type": "code",
   "execution_count": 180,
   "metadata": {},
   "outputs": [
    {
     "name": "stdout",
     "output_type": "stream",
     "text": [
      "{'name': 'zahid', 'age': 31}\n",
      "zahid\n"
     ]
    }
   ],
   "source": [
    "user = dict(name = 'zahid',age = 31)\n",
    "print(user)           # output --> {'name': 'zahid', 'age': 31}\n",
    "print(user['name'])"
   ]
  },
  {
   "cell_type": "code",
   "execution_count": 181,
   "metadata": {},
   "outputs": [
    {
     "name": "stdout",
     "output_type": "stream",
     "text": [
      "['zahid', 31, ['coco', 'kimi no na wa'], ['awakening', 'fairy tale']]\n",
      "{'name': 'zahid', 'age': 31}\n"
     ]
    }
   ],
   "source": [
    "user1 = ['zahid', 31, ['coco','kimi no na wa'], ['awakening','fairy tale']]\n",
    "print(user1)\n",
    "\n",
    "user_info1 = {}\n",
    "user_info1['name'] = 'zahid'\n",
    "user_info1['age'] = 31\n",
    "print(user_info1)"
   ]
  },
  {
   "cell_type": "code",
   "execution_count": 193,
   "metadata": {},
   "outputs": [
    {
     "name": "stdout",
     "output_type": "stream",
     "text": [
      "3\n",
      "present\n",
      "present\n"
     ]
    }
   ],
   "source": [
    "user_info = {\n",
    "    'name' : 'Faseeh',\n",
    "    'age' : 3,\n",
    "    'fav_mov' : ['coco','kimi no na wa'],\n",
    "    'fav_tune' : ['awakening','fairy tale']\n",
    "}\n",
    "print(user_info['age'])\n",
    "\n",
    "if 'name' in user_info: # keys\n",
    "    print('present')\n",
    "else:\n",
    "    print('not present')\n",
    "\n",
    "if 'Faseeh' in user_info.values(): # values\n",
    "    print('present')\n",
    "else:\n",
    "    print('not present')"
   ]
  },
  {
   "cell_type": "code",
   "execution_count": 195,
   "metadata": {},
   "outputs": [
    {
     "name": "stdout",
     "output_type": "stream",
     "text": [
      "name, age, fav_mov, fav_tune, \n",
      "Faseeh, 3, ['coco', 'kimi no na wa'], ['awakening', 'fairy tale'], \n",
      "Faseeh, 3, ['coco', 'kimi no na wa'], ['awakening', 'fairy tale'], \n",
      "dict_items([('name', 'Faseeh'), ('age', 3), ('fav_mov', ['coco', 'kimi no na wa']), ('fav_tune', ['awakening', 'fairy tale'])])\n"
     ]
    }
   ],
   "source": [
    "for i in user_info: #keys\n",
    "    print(i,  end=\", \")\n",
    "\n",
    "print()\n",
    "\n",
    "for i in user_info.values(): # values\n",
    "    print(i,  end=\", \")\n",
    "\n",
    "print()\n",
    "\n",
    "for i in user_info:\n",
    "    print((user_info[i]),  end=\", \") # values\n",
    "\n",
    "print()\n",
    "\n",
    "print(user_info.items())  # dictionary"
   ]
  },
  {
   "cell_type": "code",
   "execution_count": 196,
   "metadata": {},
   "outputs": [
    {
     "name": "stdout",
     "output_type": "stream",
     "text": [
      "dict_values(['Faseeh', 3, ['coco', 'kimi no na wa'], ['awakening', 'fairy tale']])\n",
      "<class 'dict_values'>\n",
      "dict_keys(['name', 'age', 'fav_mov', 'fav_tune'])\n",
      "<class 'dict_keys'>\n",
      "dict_items([('name', 'Faseeh'), ('age', 3), ('fav_mov', ['coco', 'kimi no na wa']), ('fav_tune', ['awakening', 'fairy tale'])])\n",
      "<class 'dict_items'>\n"
     ]
    }
   ],
   "source": [
    "print(user_info.values())\n",
    "print(type(user_info.values()))\n",
    "\n",
    "print(user_info.keys())\n",
    "print(type(user_info.keys()))\n",
    "\n",
    "print(user_info.items())\n",
    "print(type(user_info.items()))"
   ]
  },
  {
   "cell_type": "code",
   "execution_count": 197,
   "metadata": {},
   "outputs": [
    {
     "name": "stdout",
     "output_type": "stream",
     "text": [
      "(key is: name, value is: Faseeh)\n",
      "(key is: age, value is: 3)\n",
      "(key is: fav_mov, value is: ['coco', 'kimi no na wa'])\n",
      "(key is: fav_tune, value is: ['awakening', 'fairy tale'])\n"
     ]
    }
   ],
   "source": [
    "for i, j in user_info.items():\n",
    "    print(f\"(key is: {i}, value is: {j})\")"
   ]
  },
  {
   "cell_type": "code",
   "execution_count": 198,
   "metadata": {},
   "outputs": [
    {
     "name": "stdout",
     "output_type": "stream",
     "text": [
      "{'name': 'Faseeh', 'age': 3, 'fav_mov': ['coco', 'kimi no na wa'], 'fav_tune': ['awakening', 'fairy tale'], 'fav_song': ['song1', 'song2']}\n",
      "{'name': 'Faseeh', 'age': 3, 'fav_mov': ['coco', 'kimi no na wa'], 'fav_song': ['song1', 'song2']}\n"
     ]
    }
   ],
   "source": [
    "user_info['fav_song'] = ['song1','song2']   # add new key:value pair\n",
    "print(user_info)\n",
    "\n",
    "user_info.pop('fav_tune')    # delete this key\n",
    "print(user_info)"
   ]
  },
  {
   "cell_type": "code",
   "execution_count": 199,
   "metadata": {},
   "outputs": [
    {
     "name": "stdout",
     "output_type": "stream",
     "text": [
      "{'name': 'Faseeh', 'age': 3, 'fav_mov': ['coco', 'kimi no na wa']}\n",
      "('fav_mov', ['coco', 'kimi no na wa'])\n"
     ]
    }
   ],
   "source": [
    "user_info.popitem()              # random remove \n",
    "print(user_info)\n",
    "popped_item = user_info.popitem()\n",
    "print(popped_item)"
   ]
  },
  {
   "cell_type": "code",
   "execution_count": 200,
   "metadata": {},
   "outputs": [
    {
     "name": "stdout",
     "output_type": "stream",
     "text": [
      "{'name': 'zahid riaz', 'age': 3, 'state': 'Multan', 'hobby': ['reading', 'coding']}\n"
     ]
    }
   ],
   "source": [
    "more_info = {'name':'zahid riaz','state':'Multan','hobby':['reading','coding']}\n",
    "user_info.update(more_info)\n",
    "print(user_info)"
   ]
  },
  {
   "cell_type": "code",
   "execution_count": 205,
   "metadata": {},
   "outputs": [
    {
     "name": "stdout",
     "output_type": "stream",
     "text": [
      "{'name': 'unknown', 'age': 'unknown', 'height': 'unknown'}\n",
      "dict1: {'a': 'unknown', 'b': 'unknown', 'c': 'unknown'}\n",
      "dict2: {1: 'unknown', 2: 'unknown', 3: 'unknown', 4: 'unknown'}\n"
     ]
    }
   ],
   "source": [
    "my_dict = dict.fromkeys(['name','age','height'],'unknown')  # give 'unkown' value to keys\n",
    "print(my_dict)\n",
    "\n",
    "my_dict1 = dict.fromkeys('abc','unknown')\n",
    "print(f\"dict1: {my_dict1}\")    \n",
    "\n",
    "my_dict2 = dict.fromkeys(range(1,5),'unknown')\n",
    "print(f\"dict2: {my_dict2}\") "
   ]
  },
  {
   "cell_type": "code",
   "execution_count": 206,
   "metadata": {},
   "outputs": [
    {
     "name": "stdout",
     "output_type": "stream",
     "text": [
      "zahid\n",
      "zahid\n",
      "present\n"
     ]
    }
   ],
   "source": [
    "new_dict = {'name': 'zahid', 'age': '31', 'height': '6.7'}\n",
    "print(new_dict['name'])\n",
    "\n",
    "print(new_dict.get('name'))          # get use to access keys\n",
    "\n",
    "if new_dict.get('name'):             # instead of (if 'name' in new_dict:)\n",
    "    print(\"present\")\n",
    "else:\n",
    "    print('not present')"
   ]
  },
  {
   "cell_type": "code",
   "execution_count": 207,
   "metadata": {},
   "outputs": [
    {
     "name": "stdout",
     "output_type": "stream",
     "text": [
      "{}\n",
      "{}\n"
     ]
    }
   ],
   "source": [
    "new_dict.clear()\n",
    "print(new_dict)\n",
    "\n",
    "new_dict1 = new_dict.copy()              # not equal to (new_dict1 = new_dict)\n",
    "print(new_dict1)"
   ]
  },
  {
   "cell_type": "code",
   "execution_count": 208,
   "metadata": {},
   "outputs": [
    {
     "name": "stdout",
     "output_type": "stream",
     "text": [
      "{1: 1, 2: 8, 3: 27, 4: 64, 5: 125}\n"
     ]
    }
   ],
   "source": [
    "def cube_finder(n):\n",
    "    cube_dict = {}\n",
    "    for i in range(1,n+1):\n",
    "        cube_dict[i] = i**3\n",
    "    return cube_dict\n",
    "print(cube_finder(5))\n"
   ]
  },
  {
   "cell_type": "code",
   "execution_count": 209,
   "metadata": {},
   "outputs": [
    {
     "name": "stdout",
     "output_type": "stream",
     "text": [
      "{'z': 2, 'a': 2, 'h': 1, 'i': 2, 'd': 1, 'r': 1}\n"
     ]
    }
   ],
   "source": [
    "def word_counter(s):\n",
    "    count = {}\n",
    "    for char in s:\n",
    "        count[char] = s.count(char)\n",
    "    return count\n",
    "print(word_counter('zahidriaz'))"
   ]
  },
  {
   "cell_type": "code",
   "execution_count": 210,
   "metadata": {},
   "outputs": [
    {
     "name": "stdout",
     "output_type": "stream",
     "text": [
      "name : Faseeh\n",
      "age : 3\n",
      "city : Multan\n",
      "fav_colors : ['yellow', 'black']\n",
      "fav_fruites : ['apple', 'banana']\n"
     ]
    }
   ],
   "source": [
    "name = input('what is your name: ')\n",
    "age = int(input('what is your age: '))\n",
    "city = input('what is your home town: ')\n",
    "fav_colors = input('what are your favorite colors: ').split(',')    # more then one input\n",
    "fav_fruites = input('what is your favorite fruites: ').split(',')\n",
    "my_dict = {}\n",
    "my_dict['name'] = name\n",
    "my_dict['age'] = age\n",
    "my_dict['city'] = city\n",
    "my_dict['fav_colors'] = fav_colors\n",
    "my_dict['fav_fruites'] = fav_fruites\n",
    "for key, value in my_dict.items():\n",
    "    print(f\"{key} : {value}\")"
   ]
  },
  {
   "cell_type": "markdown",
   "metadata": {},
   "source": [
    "## Set\n",
    "#### --> built-in data structure that stores an unordered collection of unique items. \n",
    "#### --> Sets are primarily used for membership testing, removing duplicates, and performing mathematical operations like union, intersection, and difference.\n",
    "#### --> no repetition in value"
   ]
  },
  {
   "cell_type": "code",
   "execution_count": 215,
   "metadata": {},
   "outputs": [
    {
     "name": "stdout",
     "output_type": "stream",
     "text": [
      "{1, 2, 3, 4}\n",
      "{1, 2, 3, 4, 5, 6, 7, 8}\n"
     ]
    }
   ],
   "source": [
    "s = {1,2,3,4}\n",
    "print(s)\n",
    "l = [1,1,2,2,2,3,3,4,5,6,6,6,7,7,8]\n",
    "s1 = set(l)\n",
    "print(s1)"
   ]
  },
  {
   "cell_type": "code",
   "execution_count": 216,
   "metadata": {},
   "outputs": [
    {
     "name": "stdout",
     "output_type": "stream",
     "text": [
      "{1, 2, 3, 5}\n"
     ]
    }
   ],
   "source": [
    "s.add(5)\n",
    "s.remove(4)\n",
    "s.discard(6)\n",
    "print(s)"
   ]
  },
  {
   "cell_type": "code",
   "execution_count": 217,
   "metadata": {},
   "outputs": [
    {
     "name": "stdout",
     "output_type": "stream",
     "text": [
      "{1, 2, 3, 5}\n"
     ]
    }
   ],
   "source": [
    "s2 = s.copy()   # copy one set to other\n",
    "print(s2)"
   ]
  },
  {
   "cell_type": "code",
   "execution_count": 218,
   "metadata": {},
   "outputs": [
    {
     "name": "stdout",
     "output_type": "stream",
     "text": [
      "{1, 2, 3, 4, 5, 6}\n",
      "{3, 4}\n"
     ]
    }
   ],
   "source": [
    "s1 = {1,2,3,4}\n",
    "s2 = {3,4,5,6}\n",
    "print(s1 | s2) # union\n",
    "print(s1 & s2) # intersation"
   ]
  },
  {
   "cell_type": "markdown",
   "metadata": {},
   "source": [
    "## END"
   ]
  }
 ],
 "metadata": {
  "kernelspec": {
   "display_name": "Python 3",
   "language": "python",
   "name": "python3"
  },
  "language_info": {
   "codemirror_mode": {
    "name": "ipython",
    "version": 3
   },
   "file_extension": ".py",
   "mimetype": "text/x-python",
   "name": "python",
   "nbconvert_exporter": "python",
   "pygments_lexer": "ipython3",
   "version": "3.12.6"
  }
 },
 "nbformat": 4,
 "nbformat_minor": 4
}
